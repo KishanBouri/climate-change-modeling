{
 "cells": [
  {
   "cell_type": "markdown",
   "id": "1b59fe9a",
   "metadata": {},
   "source": [
    "# Topic Modeling (BERTopic)"
   ]
  },
  {
   "cell_type": "code",
   "execution_count": 1,
   "id": "6e274c89",
   "metadata": {},
   "outputs": [
    {
     "name": "stdout",
     "output_type": "stream",
     "text": [
      "Collecting bertopic\n",
      "  Using cached bertopic-0.17.3-py3-none-any.whl.metadata (24 kB)\n",
      "Collecting umap-learn\n",
      "  Using cached umap_learn-0.5.9.post2-py3-none-any.whl.metadata (25 kB)\n",
      "Collecting sentence-transformers\n",
      "  Using cached sentence_transformers-5.0.0-py3-none-any.whl.metadata (16 kB)\n",
      "Collecting hdbscan>=0.8.29 (from bertopic)\n",
      "  Using cached hdbscan-0.8.40-cp311-cp311-win_amd64.whl.metadata (15 kB)\n",
      "Requirement already satisfied: numpy>=1.20.0 in c:\\users\\hp\\appdata\\local\\packages\\pythonsoftwarefoundation.python.3.11_qbz5n2kfra8p0\\localcache\\local-packages\\python311\\site-packages (from bertopic) (1.26.4)\n",
      "Requirement already satisfied: pandas>=1.1.5 in c:\\users\\hp\\appdata\\local\\packages\\pythonsoftwarefoundation.python.3.11_qbz5n2kfra8p0\\localcache\\local-packages\\python311\\site-packages (from bertopic) (2.2.3)\n",
      "Requirement already satisfied: plotly>=4.7.0 in c:\\users\\hp\\appdata\\local\\packages\\pythonsoftwarefoundation.python.3.11_qbz5n2kfra8p0\\localcache\\local-packages\\python311\\site-packages (from bertopic) (6.2.0)\n",
      "Requirement already satisfied: scikit-learn>=1.0 in c:\\users\\hp\\appdata\\local\\packages\\pythonsoftwarefoundation.python.3.11_qbz5n2kfra8p0\\localcache\\local-packages\\python311\\site-packages (from bertopic) (1.7.0)\n",
      "Requirement already satisfied: tqdm>=4.41.1 in c:\\users\\hp\\appdata\\local\\packages\\pythonsoftwarefoundation.python.3.11_qbz5n2kfra8p0\\localcache\\local-packages\\python311\\site-packages (from bertopic) (4.67.1)\n",
      "Requirement already satisfied: llvmlite>0.36.0 in c:\\users\\hp\\appdata\\local\\packages\\pythonsoftwarefoundation.python.3.11_qbz5n2kfra8p0\\localcache\\local-packages\\python311\\site-packages (from bertopic) (0.44.0)\n",
      "Requirement already satisfied: scipy>=1.3.1 in c:\\users\\hp\\appdata\\local\\packages\\pythonsoftwarefoundation.python.3.11_qbz5n2kfra8p0\\localcache\\local-packages\\python311\\site-packages (from umap-learn) (1.13.1)\n",
      "Requirement already satisfied: numba>=0.51.2 in c:\\users\\hp\\appdata\\local\\packages\\pythonsoftwarefoundation.python.3.11_qbz5n2kfra8p0\\localcache\\local-packages\\python311\\site-packages (from umap-learn) (0.61.0)\n",
      "Collecting pynndescent>=0.5 (from umap-learn)\n",
      "  Using cached pynndescent-0.5.13-py3-none-any.whl.metadata (6.8 kB)\n",
      "Collecting transformers<5.0.0,>=4.41.0 (from sentence-transformers)\n",
      "  Using cached transformers-4.53.2-py3-none-any.whl.metadata (40 kB)\n",
      "Requirement already satisfied: torch>=1.11.0 in c:\\users\\hp\\appdata\\local\\packages\\pythonsoftwarefoundation.python.3.11_qbz5n2kfra8p0\\localcache\\local-packages\\python311\\site-packages (from sentence-transformers) (2.7.1)\n",
      "Collecting huggingface-hub>=0.20.0 (from sentence-transformers)\n",
      "  Using cached huggingface_hub-0.33.4-py3-none-any.whl.metadata (14 kB)\n",
      "Requirement already satisfied: Pillow in c:\\users\\hp\\appdata\\local\\packages\\pythonsoftwarefoundation.python.3.11_qbz5n2kfra8p0\\localcache\\local-packages\\python311\\site-packages (from sentence-transformers) (11.1.0)\n",
      "Requirement already satisfied: typing_extensions>=4.5.0 in c:\\users\\hp\\appdata\\local\\packages\\pythonsoftwarefoundation.python.3.11_qbz5n2kfra8p0\\localcache\\local-packages\\python311\\site-packages (from sentence-transformers) (4.14.0)\n",
      "Requirement already satisfied: filelock in c:\\users\\hp\\appdata\\local\\packages\\pythonsoftwarefoundation.python.3.11_qbz5n2kfra8p0\\localcache\\local-packages\\python311\\site-packages (from transformers<5.0.0,>=4.41.0->sentence-transformers) (3.18.0)\n",
      "Requirement already satisfied: packaging>=20.0 in c:\\users\\hp\\appdata\\local\\packages\\pythonsoftwarefoundation.python.3.11_qbz5n2kfra8p0\\localcache\\local-packages\\python311\\site-packages (from transformers<5.0.0,>=4.41.0->sentence-transformers) (24.2)\n",
      "Requirement already satisfied: pyyaml>=5.1 in c:\\users\\hp\\appdata\\local\\packages\\pythonsoftwarefoundation.python.3.11_qbz5n2kfra8p0\\localcache\\local-packages\\python311\\site-packages (from transformers<5.0.0,>=4.41.0->sentence-transformers) (6.0.2)\n",
      "Requirement already satisfied: regex!=2019.12.17 in c:\\users\\hp\\appdata\\local\\packages\\pythonsoftwarefoundation.python.3.11_qbz5n2kfra8p0\\localcache\\local-packages\\python311\\site-packages (from transformers<5.0.0,>=4.41.0->sentence-transformers) (2024.11.6)\n",
      "Requirement already satisfied: requests in c:\\users\\hp\\appdata\\local\\packages\\pythonsoftwarefoundation.python.3.11_qbz5n2kfra8p0\\localcache\\local-packages\\python311\\site-packages (from transformers<5.0.0,>=4.41.0->sentence-transformers) (2.32.4)\n",
      "Collecting tokenizers<0.22,>=0.21 (from transformers<5.0.0,>=4.41.0->sentence-transformers)\n",
      "  Using cached tokenizers-0.21.2-cp39-abi3-win_amd64.whl.metadata (6.9 kB)\n",
      "Requirement already satisfied: safetensors>=0.4.3 in c:\\users\\hp\\appdata\\local\\packages\\pythonsoftwarefoundation.python.3.11_qbz5n2kfra8p0\\localcache\\local-packages\\python311\\site-packages (from transformers<5.0.0,>=4.41.0->sentence-transformers) (0.5.3)\n",
      "Requirement already satisfied: fsspec>=2023.5.0 in c:\\users\\hp\\appdata\\local\\packages\\pythonsoftwarefoundation.python.3.11_qbz5n2kfra8p0\\localcache\\local-packages\\python311\\site-packages (from huggingface-hub>=0.20.0->sentence-transformers) (2025.5.1)\n",
      "Requirement already satisfied: joblib>=1.0 in c:\\users\\hp\\appdata\\local\\packages\\pythonsoftwarefoundation.python.3.11_qbz5n2kfra8p0\\localcache\\local-packages\\python311\\site-packages (from hdbscan>=0.8.29->bertopic) (1.5.1)\n",
      "Requirement already satisfied: python-dateutil>=2.8.2 in c:\\users\\hp\\appdata\\local\\packages\\pythonsoftwarefoundation.python.3.11_qbz5n2kfra8p0\\localcache\\local-packages\\python311\\site-packages (from pandas>=1.1.5->bertopic) (2.9.0.post0)\n",
      "Requirement already satisfied: pytz>=2020.1 in c:\\users\\hp\\appdata\\local\\packages\\pythonsoftwarefoundation.python.3.11_qbz5n2kfra8p0\\localcache\\local-packages\\python311\\site-packages (from pandas>=1.1.5->bertopic) (2025.2)\n",
      "Requirement already satisfied: tzdata>=2022.7 in c:\\users\\hp\\appdata\\local\\packages\\pythonsoftwarefoundation.python.3.11_qbz5n2kfra8p0\\localcache\\local-packages\\python311\\site-packages (from pandas>=1.1.5->bertopic) (2025.2)\n",
      "Requirement already satisfied: narwhals>=1.15.1 in c:\\users\\hp\\appdata\\local\\packages\\pythonsoftwarefoundation.python.3.11_qbz5n2kfra8p0\\localcache\\local-packages\\python311\\site-packages (from plotly>=4.7.0->bertopic) (1.44.0)\n",
      "Requirement already satisfied: six>=1.5 in c:\\users\\hp\\appdata\\local\\packages\\pythonsoftwarefoundation.python.3.11_qbz5n2kfra8p0\\localcache\\local-packages\\python311\\site-packages (from python-dateutil>=2.8.2->pandas>=1.1.5->bertopic) (1.17.0)\n",
      "Requirement already satisfied: threadpoolctl>=3.1.0 in c:\\users\\hp\\appdata\\local\\packages\\pythonsoftwarefoundation.python.3.11_qbz5n2kfra8p0\\localcache\\local-packages\\python311\\site-packages (from scikit-learn>=1.0->bertopic) (3.6.0)\n",
      "Requirement already satisfied: sympy>=1.13.3 in c:\\users\\hp\\appdata\\local\\packages\\pythonsoftwarefoundation.python.3.11_qbz5n2kfra8p0\\localcache\\local-packages\\python311\\site-packages (from torch>=1.11.0->sentence-transformers) (1.14.0)\n",
      "Requirement already satisfied: networkx in c:\\users\\hp\\appdata\\local\\packages\\pythonsoftwarefoundation.python.3.11_qbz5n2kfra8p0\\localcache\\local-packages\\python311\\site-packages (from torch>=1.11.0->sentence-transformers) (3.5)\n",
      "Requirement already satisfied: jinja2 in c:\\users\\hp\\appdata\\local\\packages\\pythonsoftwarefoundation.python.3.11_qbz5n2kfra8p0\\localcache\\local-packages\\python311\\site-packages (from torch>=1.11.0->sentence-transformers) (3.1.6)\n",
      "Requirement already satisfied: mpmath<1.4,>=1.1.0 in c:\\users\\hp\\appdata\\local\\packages\\pythonsoftwarefoundation.python.3.11_qbz5n2kfra8p0\\localcache\\local-packages\\python311\\site-packages (from sympy>=1.13.3->torch>=1.11.0->sentence-transformers) (1.3.0)\n",
      "Requirement already satisfied: colorama in c:\\users\\hp\\appdata\\local\\packages\\pythonsoftwarefoundation.python.3.11_qbz5n2kfra8p0\\localcache\\local-packages\\python311\\site-packages (from tqdm>=4.41.1->bertopic) (0.4.6)\n",
      "Requirement already satisfied: MarkupSafe>=2.0 in c:\\users\\hp\\appdata\\local\\packages\\pythonsoftwarefoundation.python.3.11_qbz5n2kfra8p0\\localcache\\local-packages\\python311\\site-packages (from jinja2->torch>=1.11.0->sentence-transformers) (3.0.2)\n",
      "Requirement already satisfied: charset_normalizer<4,>=2 in c:\\users\\hp\\appdata\\local\\packages\\pythonsoftwarefoundation.python.3.11_qbz5n2kfra8p0\\localcache\\local-packages\\python311\\site-packages (from requests->transformers<5.0.0,>=4.41.0->sentence-transformers) (3.4.2)\n",
      "Requirement already satisfied: idna<4,>=2.5 in c:\\users\\hp\\appdata\\local\\packages\\pythonsoftwarefoundation.python.3.11_qbz5n2kfra8p0\\localcache\\local-packages\\python311\\site-packages (from requests->transformers<5.0.0,>=4.41.0->sentence-transformers) (3.10)\n",
      "Requirement already satisfied: urllib3<3,>=1.21.1 in c:\\users\\hp\\appdata\\local\\packages\\pythonsoftwarefoundation.python.3.11_qbz5n2kfra8p0\\localcache\\local-packages\\python311\\site-packages (from requests->transformers<5.0.0,>=4.41.0->sentence-transformers) (2.5.0)\n",
      "Requirement already satisfied: certifi>=2017.4.17 in c:\\users\\hp\\appdata\\local\\packages\\pythonsoftwarefoundation.python.3.11_qbz5n2kfra8p0\\localcache\\local-packages\\python311\\site-packages (from requests->transformers<5.0.0,>=4.41.0->sentence-transformers) (2025.6.15)\n",
      "Using cached bertopic-0.17.3-py3-none-any.whl (153 kB)\n",
      "Using cached umap_learn-0.5.9.post2-py3-none-any.whl (90 kB)\n",
      "Using cached sentence_transformers-5.0.0-py3-none-any.whl (470 kB)\n",
      "Using cached transformers-4.53.2-py3-none-any.whl (10.8 MB)\n",
      "Using cached huggingface_hub-0.33.4-py3-none-any.whl (515 kB)\n",
      "Using cached tokenizers-0.21.2-cp39-abi3-win_amd64.whl (2.5 MB)\n",
      "Using cached hdbscan-0.8.40-cp311-cp311-win_amd64.whl (732 kB)\n",
      "Using cached pynndescent-0.5.13-py3-none-any.whl (56 kB)\n",
      "Installing collected packages: huggingface-hub, tokenizers, pynndescent, hdbscan, umap-learn, transformers, sentence-transformers, bertopic\n",
      "\n",
      "   ---------------------------------------- 0/8 [huggingface-hub]\n",
      "   ---------------------------------------- 0/8 [huggingface-hub]\n",
      "   ---------------------------------------- 0/8 [huggingface-hub]\n",
      "   ---------------------------------------- 0/8 [huggingface-hub]\n",
      "   ---------------------------------------- 0/8 [huggingface-hub]\n",
      "   ---------------------------------------- 0/8 [huggingface-hub]\n",
      "   ---------------------------------------- 0/8 [huggingface-hub]\n",
      "   ---------------------------------------- 0/8 [huggingface-hub]\n",
      "   ---------------------------------------- 0/8 [huggingface-hub]\n",
      "   ---------------------------------------- 0/8 [huggingface-hub]\n",
      "   ---------------------------------------- 0/8 [huggingface-hub]\n",
      "   ---------------------------------------- 0/8 [huggingface-hub]\n",
      "   ---------------------------------------- 0/8 [huggingface-hub]\n",
      "   ---------------------------------------- 0/8 [huggingface-hub]\n",
      "   ---------------------------------------- 0/8 [huggingface-hub]\n",
      "   ---------------------------------------- 0/8 [huggingface-hub]\n",
      "   ---------------------------------------- 0/8 [huggingface-hub]\n",
      "   ---------------------------------------- 0/8 [huggingface-hub]\n",
      "   ---------------------------------------- 0/8 [huggingface-hub]\n",
      "   ---------------------------------------- 0/8 [huggingface-hub]\n",
      "   ---------------------------------------- 0/8 [huggingface-hub]\n",
      "   ---------------------------------------- 0/8 [huggingface-hub]\n",
      "   ---------------------------------------- 0/8 [huggingface-hub]\n",
      "   ---------------------------------------- 0/8 [huggingface-hub]\n",
      "   ---------------------------------------- 0/8 [huggingface-hub]\n",
      "   ---------------------------------------- 0/8 [huggingface-hub]\n",
      "   ---------------------------------------- 0/8 [huggingface-hub]\n",
      "   ---------------------------------------- 0/8 [huggingface-hub]\n",
      "   ---------------------------------------- 0/8 [huggingface-hub]\n",
      "   ---------------------------------------- 0/8 [huggingface-hub]\n",
      "   ---------------------------------------- 0/8 [huggingface-hub]\n",
      "   ---------------------------------------- 0/8 [huggingface-hub]\n",
      "   ---------------------------------------- 0/8 [huggingface-hub]\n",
      "   ---------------------------------------- 0/8 [huggingface-hub]\n",
      "   ---------------------------------------- 0/8 [huggingface-hub]\n",
      "   ---------------------------------------- 0/8 [huggingface-hub]\n",
      "   ---------------------------------------- 0/8 [huggingface-hub]\n",
      "   ---------------------------------------- 0/8 [huggingface-hub]\n",
      "   ---------------------------------------- 0/8 [huggingface-hub]\n",
      "   ---------------------------------------- 0/8 [huggingface-hub]\n",
      "   ---------------------------------------- 0/8 [huggingface-hub]\n",
      "   ---------------------------------------- 0/8 [huggingface-hub]\n",
      "   ---------------------------------------- 0/8 [huggingface-hub]\n",
      "   ---------------------------------------- 0/8 [huggingface-hub]\n",
      "   ---------------------------------------- 0/8 [huggingface-hub]\n",
      "   ---------------------------------------- 0/8 [huggingface-hub]\n",
      "   ---------------------------------------- 0/8 [huggingface-hub]\n",
      "   ---------------------------------------- 0/8 [huggingface-hub]\n",
      "   ---------------------------------------- 0/8 [huggingface-hub]\n",
      "   ---------------------------------------- 0/8 [huggingface-hub]\n",
      "   ---------------------------------------- 0/8 [huggingface-hub]\n",
      "   ---------------------------------------- 0/8 [huggingface-hub]\n",
      "   ---------------------------------------- 0/8 [huggingface-hub]\n",
      "   ---------------------------------------- 0/8 [huggingface-hub]\n",
      "   ---------------------------------------- 0/8 [huggingface-hub]\n",
      "   ---------------------------------------- 0/8 [huggingface-hub]\n",
      "   ---------------------------------------- 0/8 [huggingface-hub]\n",
      "   ---------------------------------------- 0/8 [huggingface-hub]\n",
      "   ---------------------------------------- 0/8 [huggingface-hub]\n",
      "   ---------------------------------------- 0/8 [huggingface-hub]\n",
      "   ---------------------------------------- 0/8 [huggingface-hub]\n",
      "   ---------------------------------------- 0/8 [huggingface-hub]\n",
      "   ---------------------------------------- 0/8 [huggingface-hub]\n",
      "   ---------------------------------------- 0/8 [huggingface-hub]\n",
      "   ---------------------------------------- 0/8 [huggingface-hub]\n",
      "   ---------------------------------------- 0/8 [huggingface-hub]\n",
      "   ---------------------------------------- 0/8 [huggingface-hub]\n",
      "   ----- ---------------------------------- 1/8 [tokenizers]\n",
      "   ----- ---------------------------------- 1/8 [tokenizers]\n",
      "   ----- ---------------------------------- 1/8 [tokenizers]\n",
      "   ---------- ----------------------------- 2/8 [pynndescent]\n",
      "   ---------- ----------------------------- 2/8 [pynndescent]\n",
      "   --------------- ------------------------ 3/8 [hdbscan]\n",
      "   --------------- ------------------------ 3/8 [hdbscan]\n",
      "   --------------- ------------------------ 3/8 [hdbscan]\n",
      "   -------------------- ------------------- 4/8 [umap-learn]\n",
      "   -------------------- ------------------- 4/8 [umap-learn]\n",
      "   -------------------- ------------------- 4/8 [umap-learn]\n",
      "   ------------------------- -------------- 5/8 [transformers]\n",
      "   ------------------------- -------------- 5/8 [transformers]\n",
      "   ------------------------- -------------- 5/8 [transformers]\n",
      "   ------------------------- -------------- 5/8 [transformers]\n",
      "   ------------------------- -------------- 5/8 [transformers]\n",
      "   ------------------------- -------------- 5/8 [transformers]\n",
      "   ------------------------- -------------- 5/8 [transformers]\n",
      "   ------------------------- -------------- 5/8 [transformers]\n",
      "   ------------------------- -------------- 5/8 [transformers]\n",
      "   ------------------------- -------------- 5/8 [transformers]\n",
      "   ------------------------- -------------- 5/8 [transformers]\n",
      "   ------------------------- -------------- 5/8 [transformers]\n",
      "   ------------------------- -------------- 5/8 [transformers]\n",
      "   ------------------------- -------------- 5/8 [transformers]\n",
      "   ------------------------- -------------- 5/8 [transformers]\n",
      "   ------------------------- -------------- 5/8 [transformers]\n",
      "   ------------------------- -------------- 5/8 [transformers]\n",
      "   ------------------------- -------------- 5/8 [transformers]\n",
      "   ------------------------- -------------- 5/8 [transformers]\n",
      "   ------------------------- -------------- 5/8 [transformers]\n",
      "   ------------------------- -------------- 5/8 [transformers]\n",
      "   ------------------------- -------------- 5/8 [transformers]\n",
      "   ------------------------- -------------- 5/8 [transformers]\n",
      "   ------------------------- -------------- 5/8 [transformers]\n",
      "   ------------------------- -------------- 5/8 [transformers]\n",
      "   ------------------------- -------------- 5/8 [transformers]\n",
      "   ------------------------- -------------- 5/8 [transformers]\n",
      "   ------------------------- -------------- 5/8 [transformers]\n",
      "   ------------------------- -------------- 5/8 [transformers]\n",
      "   ------------------------- -------------- 5/8 [transformers]\n",
      "   ------------------------- -------------- 5/8 [transformers]\n",
      "   ------------------------- -------------- 5/8 [transformers]\n",
      "   ------------------------- -------------- 5/8 [transformers]\n",
      "   ------------------------- -------------- 5/8 [transformers]\n",
      "   ------------------------- -------------- 5/8 [transformers]\n",
      "   ------------------------- -------------- 5/8 [transformers]\n",
      "   ------------------------- -------------- 5/8 [transformers]\n",
      "   ------------------------- -------------- 5/8 [transformers]\n",
      "   ------------------------- -------------- 5/8 [transformers]\n",
      "   ------------------------- -------------- 5/8 [transformers]\n",
      "   ------------------------- -------------- 5/8 [transformers]\n",
      "   ------------------------- -------------- 5/8 [transformers]\n",
      "   ------------------------- -------------- 5/8 [transformers]\n",
      "   ------------------------- -------------- 5/8 [transformers]\n",
      "   ------------------------- -------------- 5/8 [transformers]\n",
      "   ------------------------- -------------- 5/8 [transformers]\n",
      "   ------------------------- -------------- 5/8 [transformers]\n",
      "   ------------------------- -------------- 5/8 [transformers]\n",
      "   ------------------------- -------------- 5/8 [transformers]\n",
      "   ------------------------- -------------- 5/8 [transformers]\n",
      "   ------------------------- -------------- 5/8 [transformers]\n",
      "   ------------------------- -------------- 5/8 [transformers]\n",
      "   ------------------------- -------------- 5/8 [transformers]\n",
      "   ------------------------- -------------- 5/8 [transformers]\n",
      "   ------------------------- -------------- 5/8 [transformers]\n",
      "   ------------------------- -------------- 5/8 [transformers]\n",
      "   ------------------------- -------------- 5/8 [transformers]\n",
      "   ------------------------- -------------- 5/8 [transformers]\n",
      "   ------------------------- -------------- 5/8 [transformers]\n",
      "   ------------------------- -------------- 5/8 [transformers]\n",
      "   ------------------------- -------------- 5/8 [transformers]\n",
      "   ------------------------- -------------- 5/8 [transformers]\n",
      "   ------------------------- -------------- 5/8 [transformers]\n",
      "   ------------------------- -------------- 5/8 [transformers]\n",
      "   ------------------------- -------------- 5/8 [transformers]\n",
      "   ------------------------- -------------- 5/8 [transformers]\n",
      "   ------------------------- -------------- 5/8 [transformers]\n",
      "   ------------------------- -------------- 5/8 [transformers]\n",
      "   ------------------------- -------------- 5/8 [transformers]\n",
      "   ------------------------- -------------- 5/8 [transformers]\n",
      "   ------------------------- -------------- 5/8 [transformers]\n",
      "   ------------------------- -------------- 5/8 [transformers]\n",
      "   ------------------------- -------------- 5/8 [transformers]\n",
      "   ------------------------- -------------- 5/8 [transformers]\n",
      "   ------------------------- -------------- 5/8 [transformers]\n",
      "   ------------------------- -------------- 5/8 [transformers]\n",
      "   ------------------------- -------------- 5/8 [transformers]\n",
      "   ------------------------- -------------- 5/8 [transformers]\n",
      "   ------------------------- -------------- 5/8 [transformers]\n",
      "   ------------------------- -------------- 5/8 [transformers]\n",
      "   ------------------------- -------------- 5/8 [transformers]\n",
      "   ------------------------- -------------- 5/8 [transformers]\n",
      "   ------------------------- -------------- 5/8 [transformers]\n",
      "   ------------------------- -------------- 5/8 [transformers]\n",
      "   ------------------------- -------------- 5/8 [transformers]\n",
      "   ------------------------- -------------- 5/8 [transformers]\n",
      "   ------------------------- -------------- 5/8 [transformers]\n",
      "   ------------------------- -------------- 5/8 [transformers]\n",
      "   ------------------------- -------------- 5/8 [transformers]\n",
      "   ------------------------- -------------- 5/8 [transformers]\n",
      "   ------------------------- -------------- 5/8 [transformers]\n",
      "   ------------------------- -------------- 5/8 [transformers]\n",
      "   ------------------------- -------------- 5/8 [transformers]\n",
      "   ------------------------- -------------- 5/8 [transformers]\n",
      "   ------------------------- -------------- 5/8 [transformers]\n",
      "   ------------------------- -------------- 5/8 [transformers]\n",
      "   ------------------------- -------------- 5/8 [transformers]\n",
      "   ------------------------- -------------- 5/8 [transformers]\n",
      "   ------------------------- -------------- 5/8 [transformers]\n",
      "   ------------------------- -------------- 5/8 [transformers]\n",
      "   ------------------------- -------------- 5/8 [transformers]\n",
      "   ------------------------- -------------- 5/8 [transformers]\n",
      "   ------------------------- -------------- 5/8 [transformers]\n",
      "   ------------------------- -------------- 5/8 [transformers]\n",
      "   ------------------------- -------------- 5/8 [transformers]\n",
      "   ------------------------- -------------- 5/8 [transformers]\n",
      "   ------------------------- -------------- 5/8 [transformers]\n",
      "   ------------------------- -------------- 5/8 [transformers]\n",
      "   ------------------------- -------------- 5/8 [transformers]\n",
      "   ------------------------- -------------- 5/8 [transformers]\n",
      "   ------------------------- -------------- 5/8 [transformers]\n",
      "   ------------------------- -------------- 5/8 [transformers]\n",
      "   ------------------------- -------------- 5/8 [transformers]\n",
      "   ------------------------- -------------- 5/8 [transformers]\n",
      "   ------------------------- -------------- 5/8 [transformers]\n",
      "   ------------------------- -------------- 5/8 [transformers]\n",
      "   ------------------------- -------------- 5/8 [transformers]\n",
      "   ------------------------- -------------- 5/8 [transformers]\n",
      "   ------------------------- -------------- 5/8 [transformers]\n",
      "   ------------------------- -------------- 5/8 [transformers]\n",
      "   ------------------------- -------------- 5/8 [transformers]\n",
      "   ------------------------- -------------- 5/8 [transformers]\n",
      "   ------------------------- -------------- 5/8 [transformers]\n",
      "   ------------------------- -------------- 5/8 [transformers]\n",
      "   ------------------------- -------------- 5/8 [transformers]\n",
      "   ------------------------- -------------- 5/8 [transformers]\n",
      "   ------------------------- -------------- 5/8 [transformers]\n",
      "   ------------------------- -------------- 5/8 [transformers]\n",
      "   ------------------------- -------------- 5/8 [transformers]\n",
      "   ------------------------- -------------- 5/8 [transformers]\n",
      "   ------------------------- -------------- 5/8 [transformers]\n",
      "   ------------------------- -------------- 5/8 [transformers]\n",
      "   ------------------------- -------------- 5/8 [transformers]\n",
      "   ------------------------- -------------- 5/8 [transformers]\n",
      "   ------------------------- -------------- 5/8 [transformers]\n",
      "   ------------------------- -------------- 5/8 [transformers]\n",
      "   ------------------------- -------------- 5/8 [transformers]\n",
      "   ------------------------- -------------- 5/8 [transformers]\n",
      "   ------------------------- -------------- 5/8 [transformers]\n",
      "   ------------------------- -------------- 5/8 [transformers]\n",
      "   ------------------------- -------------- 5/8 [transformers]\n",
      "   ------------------------- -------------- 5/8 [transformers]\n",
      "   ------------------------- -------------- 5/8 [transformers]\n",
      "   ------------------------- -------------- 5/8 [transformers]\n",
      "   ------------------------- -------------- 5/8 [transformers]\n",
      "   ------------------------- -------------- 5/8 [transformers]\n",
      "   ------------------------- -------------- 5/8 [transformers]\n",
      "   ------------------------- -------------- 5/8 [transformers]\n",
      "   ------------------------- -------------- 5/8 [transformers]\n",
      "   ------------------------- -------------- 5/8 [transformers]\n",
      "   ------------------------- -------------- 5/8 [transformers]\n",
      "   ------------------------- -------------- 5/8 [transformers]\n",
      "   ------------------------- -------------- 5/8 [transformers]\n",
      "   ------------------------- -------------- 5/8 [transformers]\n",
      "   ------------------------- -------------- 5/8 [transformers]\n",
      "   ------------------------- -------------- 5/8 [transformers]\n",
      "   ------------------------- -------------- 5/8 [transformers]\n",
      "   ------------------------- -------------- 5/8 [transformers]\n",
      "   ------------------------- -------------- 5/8 [transformers]\n",
      "   ------------------------- -------------- 5/8 [transformers]\n",
      "   ------------------------- -------------- 5/8 [transformers]\n",
      "   ------------------------- -------------- 5/8 [transformers]\n",
      "   ------------------------- -------------- 5/8 [transformers]\n",
      "   ------------------------- -------------- 5/8 [transformers]\n",
      "   ------------------------- -------------- 5/8 [transformers]\n",
      "   ------------------------- -------------- 5/8 [transformers]\n",
      "   ------------------------- -------------- 5/8 [transformers]\n",
      "   ------------------------- -------------- 5/8 [transformers]\n",
      "   ------------------------- -------------- 5/8 [transformers]\n",
      "   ------------------------- -------------- 5/8 [transformers]\n",
      "   ------------------------- -------------- 5/8 [transformers]\n",
      "   ------------------------- -------------- 5/8 [transformers]\n",
      "   ------------------------- -------------- 5/8 [transformers]\n",
      "   ------------------------- -------------- 5/8 [transformers]\n",
      "   ------------------------- -------------- 5/8 [transformers]\n",
      "   ------------------------- -------------- 5/8 [transformers]\n",
      "   ------------------------- -------------- 5/8 [transformers]\n",
      "   ------------------------- -------------- 5/8 [transformers]\n",
      "   ------------------------- -------------- 5/8 [transformers]\n",
      "   ------------------------- -------------- 5/8 [transformers]\n",
      "   ------------------------- -------------- 5/8 [transformers]\n",
      "   ------------------------- -------------- 5/8 [transformers]\n",
      "   ------------------------- -------------- 5/8 [transformers]\n",
      "   ------------------------- -------------- 5/8 [transformers]\n",
      "   ------------------------- -------------- 5/8 [transformers]\n",
      "   ------------------------- -------------- 5/8 [transformers]\n",
      "   ------------------------- -------------- 5/8 [transformers]\n",
      "   ------------------------- -------------- 5/8 [transformers]\n",
      "   ------------------------- -------------- 5/8 [transformers]\n",
      "   ------------------------- -------------- 5/8 [transformers]\n",
      "   ------------------------- -------------- 5/8 [transformers]\n",
      "   ------------------------- -------------- 5/8 [transformers]\n",
      "   ------------------------- -------------- 5/8 [transformers]\n",
      "   ------------------------- -------------- 5/8 [transformers]\n",
      "   ------------------------- -------------- 5/8 [transformers]\n",
      "   ------------------------- -------------- 5/8 [transformers]\n",
      "   ------------------------- -------------- 5/8 [transformers]\n",
      "   ------------------------- -------------- 5/8 [transformers]\n",
      "   ------------------------- -------------- 5/8 [transformers]\n",
      "   ------------------------- -------------- 5/8 [transformers]\n",
      "   ------------------------- -------------- 5/8 [transformers]\n",
      "   ------------------------- -------------- 5/8 [transformers]\n",
      "   ------------------------- -------------- 5/8 [transformers]\n",
      "   ------------------------- -------------- 5/8 [transformers]\n",
      "   ------------------------- -------------- 5/8 [transformers]\n",
      "   ------------------------- -------------- 5/8 [transformers]\n",
      "   ------------------------- -------------- 5/8 [transformers]\n",
      "   ------------------------- -------------- 5/8 [transformers]\n",
      "   ------------------------- -------------- 5/8 [transformers]\n",
      "   ------------------------- -------------- 5/8 [transformers]\n",
      "   ------------------------- -------------- 5/8 [transformers]\n",
      "   ------------------------- -------------- 5/8 [transformers]\n",
      "   ------------------------- -------------- 5/8 [transformers]\n",
      "   ------------------------- -------------- 5/8 [transformers]\n",
      "   ------------------------- -------------- 5/8 [transformers]\n",
      "   ------------------------- -------------- 5/8 [transformers]\n",
      "   ------------------------- -------------- 5/8 [transformers]\n",
      "   ------------------------- -------------- 5/8 [transformers]\n",
      "   ------------------------- -------------- 5/8 [transformers]\n",
      "   ------------------------- -------------- 5/8 [transformers]\n",
      "   ------------------------- -------------- 5/8 [transformers]\n",
      "   ------------------------- -------------- 5/8 [transformers]\n",
      "   ------------------------- -------------- 5/8 [transformers]\n",
      "   ------------------------- -------------- 5/8 [transformers]\n",
      "   ------------------------- -------------- 5/8 [transformers]\n",
      "   ------------------------- -------------- 5/8 [transformers]\n",
      "   ------------------------- -------------- 5/8 [transformers]\n",
      "   ------------------------- -------------- 5/8 [transformers]\n",
      "   ------------------------- -------------- 5/8 [transformers]\n",
      "   ------------------------- -------------- 5/8 [transformers]\n",
      "   ------------------------- -------------- 5/8 [transformers]\n",
      "   ------------------------- -------------- 5/8 [transformers]\n",
      "   ------------------------- -------------- 5/8 [transformers]\n",
      "   ------------------------- -------------- 5/8 [transformers]\n",
      "   ------------------------- -------------- 5/8 [transformers]\n",
      "   ------------------------- -------------- 5/8 [transformers]\n",
      "   ------------------------- -------------- 5/8 [transformers]\n",
      "   ------------------------- -------------- 5/8 [transformers]\n",
      "   ------------------------- -------------- 5/8 [transformers]\n",
      "   ------------------------- -------------- 5/8 [transformers]\n",
      "   ------------------------- -------------- 5/8 [transformers]\n",
      "   ------------------------- -------------- 5/8 [transformers]\n",
      "   ------------------------- -------------- 5/8 [transformers]\n",
      "   ------------------------- -------------- 5/8 [transformers]\n",
      "   ------------------------- -------------- 5/8 [transformers]\n",
      "   ------------------------- -------------- 5/8 [transformers]\n",
      "   ------------------------- -------------- 5/8 [transformers]\n",
      "   ------------------------- -------------- 5/8 [transformers]\n",
      "   ------------------------- -------------- 5/8 [transformers]\n",
      "   ------------------------- -------------- 5/8 [transformers]\n",
      "   ------------------------- -------------- 5/8 [transformers]\n",
      "   ------------------------- -------------- 5/8 [transformers]\n",
      "   ------------------------- -------------- 5/8 [transformers]\n",
      "   ------------------------- -------------- 5/8 [transformers]\n",
      "   ------------------------- -------------- 5/8 [transformers]\n",
      "   ------------------------- -------------- 5/8 [transformers]\n",
      "   ------------------------- -------------- 5/8 [transformers]\n",
      "   ------------------------- -------------- 5/8 [transformers]\n",
      "   ------------------------- -------------- 5/8 [transformers]\n",
      "   ------------------------- -------------- 5/8 [transformers]\n",
      "   ------------------------- -------------- 5/8 [transformers]\n",
      "   ------------------------- -------------- 5/8 [transformers]\n",
      "   ------------------------- -------------- 5/8 [transformers]\n",
      "   ------------------------- -------------- 5/8 [transformers]\n",
      "   ------------------------- -------------- 5/8 [transformers]\n",
      "   ------------------------- -------------- 5/8 [transformers]\n",
      "   ------------------------- -------------- 5/8 [transformers]\n",
      "   ------------------------- -------------- 5/8 [transformers]\n",
      "   ------------------------- -------------- 5/8 [transformers]\n",
      "   ------------------------- -------------- 5/8 [transformers]\n",
      "   ------------------------- -------------- 5/8 [transformers]\n",
      "   ------------------------- -------------- 5/8 [transformers]\n",
      "   ------------------------- -------------- 5/8 [transformers]\n",
      "   ------------------------- -------------- 5/8 [transformers]\n",
      "   ------------------------- -------------- 5/8 [transformers]\n",
      "   ------------------------- -------------- 5/8 [transformers]\n",
      "   ------------------------- -------------- 5/8 [transformers]\n",
      "   ------------------------- -------------- 5/8 [transformers]\n",
      "   ------------------------- -------------- 5/8 [transformers]\n",
      "   ------------------------- -------------- 5/8 [transformers]\n",
      "   ------------------------- -------------- 5/8 [transformers]\n",
      "   ------------------------- -------------- 5/8 [transformers]\n",
      "   ------------------------- -------------- 5/8 [transformers]\n",
      "   ------------------------- -------------- 5/8 [transformers]\n",
      "   ------------------------- -------------- 5/8 [transformers]\n",
      "   ------------------------- -------------- 5/8 [transformers]\n",
      "   ------------------------- -------------- 5/8 [transformers]\n",
      "   ------------------------- -------------- 5/8 [transformers]\n",
      "   ------------------------- -------------- 5/8 [transformers]\n",
      "   ------------------------- -------------- 5/8 [transformers]\n",
      "   ------------------------- -------------- 5/8 [transformers]\n",
      "   ------------------------- -------------- 5/8 [transformers]\n",
      "   ------------------------- -------------- 5/8 [transformers]\n",
      "   ------------------------- -------------- 5/8 [transformers]\n",
      "   ------------------------- -------------- 5/8 [transformers]\n",
      "   ------------------------- -------------- 5/8 [transformers]\n",
      "   ------------------------- -------------- 5/8 [transformers]\n",
      "   ------------------------- -------------- 5/8 [transformers]\n",
      "   ------------------------- -------------- 5/8 [transformers]\n",
      "   ------------------------- -------------- 5/8 [transformers]\n",
      "   ------------------------- -------------- 5/8 [transformers]\n",
      "   ------------------------- -------------- 5/8 [transformers]\n",
      "   ------------------------- -------------- 5/8 [transformers]\n",
      "   ------------------------- -------------- 5/8 [transformers]\n",
      "   ------------------------- -------------- 5/8 [transformers]\n",
      "   ------------------------- -------------- 5/8 [transformers]\n",
      "   ------------------------- -------------- 5/8 [transformers]\n",
      "   ------------------------- -------------- 5/8 [transformers]\n",
      "   ------------------------- -------------- 5/8 [transformers]\n",
      "   ------------------------- -------------- 5/8 [transformers]\n",
      "   ------------------------- -------------- 5/8 [transformers]\n",
      "   ------------------------- -------------- 5/8 [transformers]\n",
      "   ------------------------- -------------- 5/8 [transformers]\n",
      "   ------------------------- -------------- 5/8 [transformers]\n",
      "   ------------------------- -------------- 5/8 [transformers]\n",
      "   ------------------------- -------------- 5/8 [transformers]\n",
      "   ------------------------- -------------- 5/8 [transformers]\n",
      "   ------------------------- -------------- 5/8 [transformers]\n",
      "   ------------------------- -------------- 5/8 [transformers]\n",
      "   ------------------------- -------------- 5/8 [transformers]\n",
      "   ------------------------- -------------- 5/8 [transformers]\n",
      "   ------------------------- -------------- 5/8 [transformers]\n",
      "   ------------------------- -------------- 5/8 [transformers]\n",
      "   ------------------------- -------------- 5/8 [transformers]\n",
      "   ------------------------- -------------- 5/8 [transformers]\n",
      "   ------------------------- -------------- 5/8 [transformers]\n",
      "   ------------------------- -------------- 5/8 [transformers]\n",
      "   ------------------------- -------------- 5/8 [transformers]\n",
      "   ------------------------- -------------- 5/8 [transformers]\n",
      "   ------------------------- -------------- 5/8 [transformers]\n",
      "   ------------------------- -------------- 5/8 [transformers]\n",
      "   ------------------------- -------------- 5/8 [transformers]\n",
      "   ------------------------- -------------- 5/8 [transformers]\n",
      "   ------------------------- -------------- 5/8 [transformers]\n",
      "   ------------------------- -------------- 5/8 [transformers]\n",
      "   ------------------------- -------------- 5/8 [transformers]\n",
      "   ------------------------- -------------- 5/8 [transformers]\n",
      "   ------------------------- -------------- 5/8 [transformers]\n",
      "   ------------------------- -------------- 5/8 [transformers]\n",
      "   ------------------------- -------------- 5/8 [transformers]\n",
      "   ------------------------- -------------- 5/8 [transformers]\n",
      "   ------------------------- -------------- 5/8 [transformers]\n",
      "   ------------------------- -------------- 5/8 [transformers]\n",
      "   ------------------------- -------------- 5/8 [transformers]\n",
      "   ------------------------- -------------- 5/8 [transformers]\n",
      "   ------------------------- -------------- 5/8 [transformers]\n",
      "   ------------------------- -------------- 5/8 [transformers]\n",
      "   ------------------------- -------------- 5/8 [transformers]\n",
      "   ------------------------- -------------- 5/8 [transformers]\n",
      "   ------------------------- -------------- 5/8 [transformers]\n",
      "   ------------------------- -------------- 5/8 [transformers]\n",
      "   ------------------------- -------------- 5/8 [transformers]\n",
      "   ------------------------- -------------- 5/8 [transformers]\n",
      "   ------------------------- -------------- 5/8 [transformers]\n",
      "   ------------------------- -------------- 5/8 [transformers]\n",
      "   ------------------------- -------------- 5/8 [transformers]\n",
      "   ------------------------- -------------- 5/8 [transformers]\n",
      "   ------------------------- -------------- 5/8 [transformers]\n",
      "   ------------------------- -------------- 5/8 [transformers]\n",
      "   ------------------------- -------------- 5/8 [transformers]\n",
      "   ------------------------- -------------- 5/8 [transformers]\n",
      "   ------------------------- -------------- 5/8 [transformers]\n",
      "   ------------------------- -------------- 5/8 [transformers]\n",
      "   ------------------------- -------------- 5/8 [transformers]\n",
      "   ------------------------- -------------- 5/8 [transformers]\n",
      "   ------------------------- -------------- 5/8 [transformers]\n",
      "   ------------------------- -------------- 5/8 [transformers]\n",
      "   ------------------------- -------------- 5/8 [transformers]\n",
      "   ------------------------- -------------- 5/8 [transformers]\n",
      "   ------------------------- -------------- 5/8 [transformers]\n",
      "   ------------------------- -------------- 5/8 [transformers]\n",
      "   ------------------------- -------------- 5/8 [transformers]\n",
      "   ------------------------- -------------- 5/8 [transformers]\n",
      "   ------------------------- -------------- 5/8 [transformers]\n",
      "   ------------------------- -------------- 5/8 [transformers]\n",
      "   ------------------------- -------------- 5/8 [transformers]\n",
      "   ------------------------- -------------- 5/8 [transformers]\n",
      "   ------------------------- -------------- 5/8 [transformers]\n",
      "   ------------------------- -------------- 5/8 [transformers]\n",
      "   ------------------------- -------------- 5/8 [transformers]\n",
      "   ------------------------- -------------- 5/8 [transformers]\n",
      "   ------------------------- -------------- 5/8 [transformers]\n",
      "   ------------------------- -------------- 5/8 [transformers]\n",
      "   ------------------------- -------------- 5/8 [transformers]\n",
      "   ------------------------- -------------- 5/8 [transformers]\n",
      "   ------------------------- -------------- 5/8 [transformers]\n",
      "   ------------------------- -------------- 5/8 [transformers]\n",
      "   ------------------------- -------------- 5/8 [transformers]\n",
      "   ------------------------- -------------- 5/8 [transformers]\n",
      "   ------------------------- -------------- 5/8 [transformers]\n",
      "   ------------------------- -------------- 5/8 [transformers]\n",
      "   ------------------------- -------------- 5/8 [transformers]\n",
      "   ------------------------- -------------- 5/8 [transformers]\n",
      "   ------------------------- -------------- 5/8 [transformers]\n",
      "   ------------------------- -------------- 5/8 [transformers]\n",
      "   ------------------------- -------------- 5/8 [transformers]\n",
      "   ------------------------- -------------- 5/8 [transformers]\n",
      "   ------------------------- -------------- 5/8 [transformers]\n",
      "   ------------------------- -------------- 5/8 [transformers]\n",
      "   ------------------------- -------------- 5/8 [transformers]\n",
      "   ------------------------- -------------- 5/8 [transformers]\n",
      "   ------------------------- -------------- 5/8 [transformers]\n",
      "   ------------------------- -------------- 5/8 [transformers]\n",
      "   ------------------------- -------------- 5/8 [transformers]\n",
      "   ------------------------- -------------- 5/8 [transformers]\n",
      "   ------------------------- -------------- 5/8 [transformers]\n",
      "   ------------------------- -------------- 5/8 [transformers]\n",
      "   ------------------------- -------------- 5/8 [transformers]\n",
      "   ------------------------- -------------- 5/8 [transformers]\n",
      "   ------------------------- -------------- 5/8 [transformers]\n",
      "   ------------------------- -------------- 5/8 [transformers]\n",
      "   ------------------------- -------------- 5/8 [transformers]\n",
      "   ------------------------- -------------- 5/8 [transformers]\n",
      "   ------------------------- -------------- 5/8 [transformers]\n",
      "   ------------------------- -------------- 5/8 [transformers]\n",
      "   ------------------------- -------------- 5/8 [transformers]\n",
      "   ------------------------- -------------- 5/8 [transformers]\n",
      "   ------------------------- -------------- 5/8 [transformers]\n",
      "   ------------------------- -------------- 5/8 [transformers]\n",
      "   ------------------------- -------------- 5/8 [transformers]\n",
      "   ------------------------- -------------- 5/8 [transformers]\n",
      "   ------------------------- -------------- 5/8 [transformers]\n",
      "   ------------------------- -------------- 5/8 [transformers]\n",
      "   ------------------------- -------------- 5/8 [transformers]\n",
      "   ------------------------- -------------- 5/8 [transformers]\n",
      "   ------------------------- -------------- 5/8 [transformers]\n",
      "   ------------------------- -------------- 5/8 [transformers]\n",
      "   ------------------------- -------------- 5/8 [transformers]\n",
      "   ------------------------- -------------- 5/8 [transformers]\n",
      "   ------------------------- -------------- 5/8 [transformers]\n",
      "   ------------------------- -------------- 5/8 [transformers]\n",
      "   ------------------------- -------------- 5/8 [transformers]\n",
      "   ------------------------- -------------- 5/8 [transformers]\n",
      "   ------------------------- -------------- 5/8 [transformers]\n",
      "   ------------------------- -------------- 5/8 [transformers]\n",
      "   ------------------------- -------------- 5/8 [transformers]\n",
      "   ------------------------- -------------- 5/8 [transformers]\n",
      "   ------------------------- -------------- 5/8 [transformers]\n",
      "   ------------------------- -------------- 5/8 [transformers]\n",
      "   ------------------------- -------------- 5/8 [transformers]\n",
      "   ------------------------- -------------- 5/8 [transformers]\n",
      "   ------------------------- -------------- 5/8 [transformers]\n",
      "   ------------------------- -------------- 5/8 [transformers]\n",
      "   ------------------------- -------------- 5/8 [transformers]\n",
      "   ------------------------- -------------- 5/8 [transformers]\n",
      "   ------------------------- -------------- 5/8 [transformers]\n",
      "   ------------------------- -------------- 5/8 [transformers]\n",
      "   ------------------------- -------------- 5/8 [transformers]\n",
      "   ------------------------- -------------- 5/8 [transformers]\n",
      "   ------------------------- -------------- 5/8 [transformers]\n",
      "   ------------------------- -------------- 5/8 [transformers]\n",
      "   ------------------------- -------------- 5/8 [transformers]\n",
      "   ------------------------- -------------- 5/8 [transformers]\n",
      "   ------------------------- -------------- 5/8 [transformers]\n",
      "   ------------------------- -------------- 5/8 [transformers]\n",
      "   ------------------------- -------------- 5/8 [transformers]\n",
      "   ------------------------- -------------- 5/8 [transformers]\n",
      "   ------------------------- -------------- 5/8 [transformers]\n",
      "   ------------------------- -------------- 5/8 [transformers]\n",
      "   ------------------------- -------------- 5/8 [transformers]\n",
      "   ------------------------- -------------- 5/8 [transformers]\n",
      "   ------------------------- -------------- 5/8 [transformers]\n",
      "   ------------------------- -------------- 5/8 [transformers]\n",
      "   ------------------------- -------------- 5/8 [transformers]\n",
      "   ------------------------- -------------- 5/8 [transformers]\n",
      "   ------------------------- -------------- 5/8 [transformers]\n",
      "   ------------------------- -------------- 5/8 [transformers]\n",
      "   ------------------------- -------------- 5/8 [transformers]\n",
      "   ------------------------- -------------- 5/8 [transformers]\n",
      "   ------------------------- -------------- 5/8 [transformers]\n",
      "   ------------------------- -------------- 5/8 [transformers]\n",
      "   ------------------------- -------------- 5/8 [transformers]\n",
      "   ------------------------- -------------- 5/8 [transformers]\n",
      "   ------------------------- -------------- 5/8 [transformers]\n",
      "   ------------------------- -------------- 5/8 [transformers]\n",
      "   ------------------------- -------------- 5/8 [transformers]\n",
      "   ------------------------- -------------- 5/8 [transformers]\n",
      "   ------------------------- -------------- 5/8 [transformers]\n",
      "   ------------------------- -------------- 5/8 [transformers]\n",
      "   ------------------------- -------------- 5/8 [transformers]\n",
      "   ------------------------- -------------- 5/8 [transformers]\n",
      "   ------------------------- -------------- 5/8 [transformers]\n",
      "   ------------------------- -------------- 5/8 [transformers]\n",
      "   ------------------------- -------------- 5/8 [transformers]\n",
      "   ------------------------- -------------- 5/8 [transformers]\n",
      "   ------------------------- -------------- 5/8 [transformers]\n",
      "   ------------------------- -------------- 5/8 [transformers]\n",
      "   ------------------------- -------------- 5/8 [transformers]\n",
      "   ------------------------- -------------- 5/8 [transformers]\n",
      "   ------------------------- -------------- 5/8 [transformers]\n",
      "   ------------------------- -------------- 5/8 [transformers]\n",
      "   ------------------------- -------------- 5/8 [transformers]\n",
      "   ------------------------- -------------- 5/8 [transformers]\n",
      "   ------------------------- -------------- 5/8 [transformers]\n",
      "   ------------------------- -------------- 5/8 [transformers]\n",
      "   ------------------------- -------------- 5/8 [transformers]\n",
      "   ------------------------- -------------- 5/8 [transformers]\n",
      "   ------------------------- -------------- 5/8 [transformers]\n",
      "   ------------------------- -------------- 5/8 [transformers]\n",
      "   ------------------------- -------------- 5/8 [transformers]\n",
      "   ------------------------- -------------- 5/8 [transformers]\n",
      "   ------------------------- -------------- 5/8 [transformers]\n",
      "   ------------------------- -------------- 5/8 [transformers]\n",
      "   ------------------------- -------------- 5/8 [transformers]\n",
      "   ------------------------- -------------- 5/8 [transformers]\n",
      "   ------------------------- -------------- 5/8 [transformers]\n",
      "   ------------------------- -------------- 5/8 [transformers]\n",
      "   ------------------------- -------------- 5/8 [transformers]\n",
      "   ------------------------- -------------- 5/8 [transformers]\n",
      "   ------------------------- -------------- 5/8 [transformers]\n",
      "   ------------------------- -------------- 5/8 [transformers]\n",
      "   ------------------------- -------------- 5/8 [transformers]\n",
      "   ------------------------- -------------- 5/8 [transformers]\n",
      "   ------------------------- -------------- 5/8 [transformers]\n",
      "   ------------------------- -------------- 5/8 [transformers]\n",
      "   ------------------------- -------------- 5/8 [transformers]\n",
      "   ------------------------- -------------- 5/8 [transformers]\n",
      "   ------------------------- -------------- 5/8 [transformers]\n",
      "   ------------------------- -------------- 5/8 [transformers]\n",
      "   ------------------------- -------------- 5/8 [transformers]\n",
      "   ------------------------- -------------- 5/8 [transformers]\n",
      "   ------------------------- -------------- 5/8 [transformers]\n",
      "   ------------------------- -------------- 5/8 [transformers]\n",
      "   ------------------------- -------------- 5/8 [transformers]\n",
      "   ------------------------- -------------- 5/8 [transformers]\n",
      "   ------------------------- -------------- 5/8 [transformers]\n",
      "   ------------------------- -------------- 5/8 [transformers]\n",
      "   ------------------------- -------------- 5/8 [transformers]\n",
      "   ------------------------- -------------- 5/8 [transformers]\n",
      "   ------------------------- -------------- 5/8 [transformers]\n",
      "   ------------------------- -------------- 5/8 [transformers]\n",
      "   ------------------------- -------------- 5/8 [transformers]\n",
      "   ------------------------- -------------- 5/8 [transformers]\n",
      "   ------------------------- -------------- 5/8 [transformers]\n",
      "   ------------------------- -------------- 5/8 [transformers]\n",
      "   ------------------------- -------------- 5/8 [transformers]\n",
      "   ------------------------- -------------- 5/8 [transformers]\n",
      "   ------------------------- -------------- 5/8 [transformers]\n",
      "   ------------------------- -------------- 5/8 [transformers]\n",
      "   ------------------------- -------------- 5/8 [transformers]\n",
      "   ------------------------- -------------- 5/8 [transformers]\n",
      "   ------------------------- -------------- 5/8 [transformers]\n",
      "   ------------------------- -------------- 5/8 [transformers]\n",
      "   ------------------------- -------------- 5/8 [transformers]\n",
      "   ------------------------- -------------- 5/8 [transformers]\n",
      "   ------------------------- -------------- 5/8 [transformers]\n",
      "   ------------------------- -------------- 5/8 [transformers]\n",
      "   ------------------------- -------------- 5/8 [transformers]\n",
      "   ------------------------- -------------- 5/8 [transformers]\n",
      "   ------------------------- -------------- 5/8 [transformers]\n",
      "   ------------------------- -------------- 5/8 [transformers]\n",
      "   ------------------------- -------------- 5/8 [transformers]\n",
      "   ------------------------- -------------- 5/8 [transformers]\n",
      "   ------------------------- -------------- 5/8 [transformers]\n",
      "   ------------------------- -------------- 5/8 [transformers]\n",
      "   ------------------------- -------------- 5/8 [transformers]\n",
      "   ------------------------- -------------- 5/8 [transformers]\n",
      "   ------------------------- -------------- 5/8 [transformers]\n",
      "   ------------------------- -------------- 5/8 [transformers]\n",
      "   ------------------------- -------------- 5/8 [transformers]\n",
      "   ------------------------- -------------- 5/8 [transformers]\n",
      "   ------------------------- -------------- 5/8 [transformers]\n",
      "   ------------------------- -------------- 5/8 [transformers]\n",
      "   ------------------------- -------------- 5/8 [transformers]\n",
      "   ------------------------- -------------- 5/8 [transformers]\n",
      "   ------------------------- -------------- 5/8 [transformers]\n",
      "   ------------------------- -------------- 5/8 [transformers]\n",
      "   ------------------------- -------------- 5/8 [transformers]\n",
      "   ------------------------- -------------- 5/8 [transformers]\n",
      "   ------------------------- -------------- 5/8 [transformers]\n",
      "   ------------------------- -------------- 5/8 [transformers]\n",
      "   ------------------------- -------------- 5/8 [transformers]\n",
      "   ------------------------- -------------- 5/8 [transformers]\n",
      "   ------------------------- -------------- 5/8 [transformers]\n",
      "   ------------------------- -------------- 5/8 [transformers]\n",
      "   ------------------------- -------------- 5/8 [transformers]\n",
      "   ------------------------- -------------- 5/8 [transformers]\n",
      "   ------------------------- -------------- 5/8 [transformers]\n",
      "   ------------------------- -------------- 5/8 [transformers]\n",
      "   ------------------------- -------------- 5/8 [transformers]\n",
      "   ------------------------- -------------- 5/8 [transformers]\n",
      "   ------------------------- -------------- 5/8 [transformers]\n",
      "   ------------------------- -------------- 5/8 [transformers]\n",
      "   ------------------------- -------------- 5/8 [transformers]\n",
      "   ------------------------- -------------- 5/8 [transformers]\n",
      "   ------------------------- -------------- 5/8 [transformers]\n",
      "   ------------------------- -------------- 5/8 [transformers]\n",
      "   ------------------------- -------------- 5/8 [transformers]\n",
      "   ------------------------- -------------- 5/8 [transformers]\n",
      "   ------------------------- -------------- 5/8 [transformers]\n",
      "   ------------------------- -------------- 5/8 [transformers]\n",
      "   ------------------------- -------------- 5/8 [transformers]\n",
      "   ------------------------- -------------- 5/8 [transformers]\n",
      "   ------------------------- -------------- 5/8 [transformers]\n",
      "   ------------------------- -------------- 5/8 [transformers]\n",
      "   ------------------------- -------------- 5/8 [transformers]\n",
      "   ------------------------- -------------- 5/8 [transformers]\n",
      "   ------------------------- -------------- 5/8 [transformers]\n",
      "   ------------------------- -------------- 5/8 [transformers]\n",
      "   ------------------------- -------------- 5/8 [transformers]\n",
      "   ------------------------- -------------- 5/8 [transformers]\n",
      "   ------------------------- -------------- 5/8 [transformers]\n",
      "   ------------------------- -------------- 5/8 [transformers]\n",
      "   ------------------------- -------------- 5/8 [transformers]\n",
      "   ------------------------- -------------- 5/8 [transformers]\n",
      "   ------------------------- -------------- 5/8 [transformers]\n",
      "   ------------------------- -------------- 5/8 [transformers]\n",
      "   ------------------------- -------------- 5/8 [transformers]\n",
      "   ------------------------- -------------- 5/8 [transformers]\n",
      "   ------------------------- -------------- 5/8 [transformers]\n",
      "   ------------------------- -------------- 5/8 [transformers]\n",
      "   ------------------------- -------------- 5/8 [transformers]\n",
      "   ------------------------- -------------- 5/8 [transformers]\n",
      "   ------------------------- -------------- 5/8 [transformers]\n",
      "   ------------------------- -------------- 5/8 [transformers]\n",
      "   ------------------------- -------------- 5/8 [transformers]\n",
      "   ------------------------- -------------- 5/8 [transformers]\n",
      "   ------------------------- -------------- 5/8 [transformers]\n",
      "   ------------------------- -------------- 5/8 [transformers]\n",
      "   ------------------------- -------------- 5/8 [transformers]\n",
      "   ------------------------- -------------- 5/8 [transformers]\n",
      "   ------------------------- -------------- 5/8 [transformers]\n",
      "   ------------------------- -------------- 5/8 [transformers]\n",
      "   ------------------------- -------------- 5/8 [transformers]\n",
      "   ------------------------- -------------- 5/8 [transformers]\n",
      "   ------------------------- -------------- 5/8 [transformers]\n",
      "   ------------------------- -------------- 5/8 [transformers]\n",
      "   ------------------------- -------------- 5/8 [transformers]\n",
      "   ------------------------- -------------- 5/8 [transformers]\n",
      "   ------------------------- -------------- 5/8 [transformers]\n",
      "   ------------------------- -------------- 5/8 [transformers]\n",
      "   ------------------------- -------------- 5/8 [transformers]\n",
      "   ------------------------- -------------- 5/8 [transformers]\n",
      "   ------------------------- -------------- 5/8 [transformers]\n",
      "   ------------------------- -------------- 5/8 [transformers]\n",
      "   ------------------------- -------------- 5/8 [transformers]\n",
      "   ------------------------- -------------- 5/8 [transformers]\n",
      "   ------------------------- -------------- 5/8 [transformers]\n",
      "   ------------------------- -------------- 5/8 [transformers]\n",
      "   ------------------------- -------------- 5/8 [transformers]\n",
      "   ------------------------- -------------- 5/8 [transformers]\n",
      "   ------------------------- -------------- 5/8 [transformers]\n",
      "   ------------------------- -------------- 5/8 [transformers]\n",
      "   ------------------------- -------------- 5/8 [transformers]\n",
      "   ------------------------- -------------- 5/8 [transformers]\n",
      "   ------------------------- -------------- 5/8 [transformers]\n",
      "   ------------------------- -------------- 5/8 [transformers]\n",
      "   ------------------------- -------------- 5/8 [transformers]\n",
      "   ------------------------- -------------- 5/8 [transformers]\n",
      "   ------------------------- -------------- 5/8 [transformers]\n",
      "   ------------------------- -------------- 5/8 [transformers]\n",
      "   ------------------------- -------------- 5/8 [transformers]\n",
      "   ------------------------- -------------- 5/8 [transformers]\n",
      "   ------------------------- -------------- 5/8 [transformers]\n",
      "   ------------------------------ --------- 6/8 [sentence-transformers]\n",
      "   ------------------------------ --------- 6/8 [sentence-transformers]\n",
      "   ------------------------------ --------- 6/8 [sentence-transformers]\n",
      "   ------------------------------ --------- 6/8 [sentence-transformers]\n",
      "   ------------------------------ --------- 6/8 [sentence-transformers]\n",
      "   ------------------------------ --------- 6/8 [sentence-transformers]\n",
      "   ------------------------------ --------- 6/8 [sentence-transformers]\n",
      "   ------------------------------ --------- 6/8 [sentence-transformers]\n",
      "   ------------------------------ --------- 6/8 [sentence-transformers]\n",
      "   ------------------------------ --------- 6/8 [sentence-transformers]\n",
      "   ------------------------------ --------- 6/8 [sentence-transformers]\n",
      "   ------------------------------ --------- 6/8 [sentence-transformers]\n",
      "   ------------------------------ --------- 6/8 [sentence-transformers]\n",
      "   ------------------------------ --------- 6/8 [sentence-transformers]\n",
      "   ------------------------------ --------- 6/8 [sentence-transformers]\n",
      "   ------------------------------ --------- 6/8 [sentence-transformers]\n",
      "   ------------------------------ --------- 6/8 [sentence-transformers]\n",
      "   ------------------------------ --------- 6/8 [sentence-transformers]\n",
      "   ------------------------------ --------- 6/8 [sentence-transformers]\n",
      "   ------------------------------ --------- 6/8 [sentence-transformers]\n",
      "   ------------------------------ --------- 6/8 [sentence-transformers]\n",
      "   ------------------------------ --------- 6/8 [sentence-transformers]\n",
      "   ------------------------------ --------- 6/8 [sentence-transformers]\n",
      "   ------------------------------ --------- 6/8 [sentence-transformers]\n",
      "   ------------------------------ --------- 6/8 [sentence-transformers]\n",
      "   ------------------------------ --------- 6/8 [sentence-transformers]\n",
      "   ------------------------------ --------- 6/8 [sentence-transformers]\n",
      "   ------------------------------ --------- 6/8 [sentence-transformers]\n",
      "   ------------------------------ --------- 6/8 [sentence-transformers]\n",
      "   ------------------------------ --------- 6/8 [sentence-transformers]\n",
      "   ------------------------------ --------- 6/8 [sentence-transformers]\n",
      "   ------------------------------ --------- 6/8 [sentence-transformers]\n",
      "   ------------------------------ --------- 6/8 [sentence-transformers]\n",
      "   ------------------------------ --------- 6/8 [sentence-transformers]\n",
      "   ------------------------------ --------- 6/8 [sentence-transformers]\n",
      "   ------------------------------ --------- 6/8 [sentence-transformers]\n",
      "   ------------------------------ --------- 6/8 [sentence-transformers]\n",
      "   ------------------------------ --------- 6/8 [sentence-transformers]\n",
      "   ------------------------------ --------- 6/8 [sentence-transformers]\n",
      "   ----------------------------------- ---- 7/8 [bertopic]\n",
      "   ----------------------------------- ---- 7/8 [bertopic]\n",
      "   ----------------------------------- ---- 7/8 [bertopic]\n",
      "   ----------------------------------- ---- 7/8 [bertopic]\n",
      "   ----------------------------------- ---- 7/8 [bertopic]\n",
      "   ----------------------------------- ---- 7/8 [bertopic]\n",
      "   ----------------------------------- ---- 7/8 [bertopic]\n",
      "   ----------------------------------- ---- 7/8 [bertopic]\n",
      "   ----------------------------------- ---- 7/8 [bertopic]\n",
      "   ----------------------------------- ---- 7/8 [bertopic]\n",
      "   ----------------------------------- ---- 7/8 [bertopic]\n",
      "   ----------------------------------- ---- 7/8 [bertopic]\n",
      "   ----------------------------------- ---- 7/8 [bertopic]\n",
      "   ----------------------------------- ---- 7/8 [bertopic]\n",
      "   ----------------------------------- ---- 7/8 [bertopic]\n",
      "   ----------------------------------- ---- 7/8 [bertopic]\n",
      "   ----------------------------------- ---- 7/8 [bertopic]\n",
      "   ----------------------------------- ---- 7/8 [bertopic]\n",
      "   ----------------------------------- ---- 7/8 [bertopic]\n",
      "   ----------------------------------- ---- 7/8 [bertopic]\n",
      "   ----------------------------------- ---- 7/8 [bertopic]\n",
      "   ---------------------------------------- 8/8 [bertopic]\n",
      "\n",
      "Successfully installed bertopic-0.17.3 hdbscan-0.8.40 huggingface-hub-0.33.4 pynndescent-0.5.13 sentence-transformers-5.0.0 tokenizers-0.21.2 transformers-4.53.2 umap-learn-0.5.9.post2\n"
     ]
    }
   ],
   "source": [
    "!pip install bertopic umap-learn sentence-transformers\n"
   ]
  },
  {
   "cell_type": "code",
   "execution_count": 6,
   "id": "5fc93657",
   "metadata": {},
   "outputs": [],
   "source": [
    "import pandas as pd\n",
    "\n",
    "# Load your cleaned NASA comment file\n",
    "df = pd.read_csv(\"../data/raw/climate_nasa.csv\")  # Adjust if saved elsewhere\n",
    "df.columns = [col.strip().replace(\" \", \"_\").lower() for col in df.columns]\n",
    "df.rename(columns={\"text\": \"comment\"}, inplace=True)\n",
    "\n",
    "# If you saved preprocessed data in 'processed/' folder, load from there\n"
   ]
  },
  {
   "cell_type": "code",
   "execution_count": 8,
   "id": "739c6951",
   "metadata": {},
   "outputs": [],
   "source": [
    "import re\n",
    "\n",
    "def clean_text(text):\n",
    "    if not isinstance(text, str):\n",
    "        return \"\"\n",
    "    text = text.lower()\n",
    "    text = re.sub(r\"http\\S+\", \"\", text)\n",
    "    text = re.sub(r\"@\\w+\", \"\", text)\n",
    "    text = re.sub(r\"#\\w+\", \"\", text)\n",
    "    text = re.sub(r\"\\d+\", \"\", text)\n",
    "    text = re.sub(r\"[^\\w\\s]\", \"\", text)\n",
    "    text = re.sub(r\"\\s+\", \" \", text).strip()\n",
    "    return text\n",
    "\n",
    "df[\"clean_comment\"] = df[\"comment\"].apply(clean_text)\n"
   ]
  },
  {
   "cell_type": "code",
   "execution_count": 9,
   "id": "92a36982",
   "metadata": {},
   "outputs": [
    {
     "name": "stderr",
     "output_type": "stream",
     "text": [
      "2025-07-14 15:24:19,026 - BERTopic - Embedding - Transforming documents to embeddings.\n"
     ]
    },
    {
     "data": {
      "application/vnd.jupyter.widget-view+json": {
       "model_id": "f12c02babe8541d38f8a3980c9a976dd",
       "version_major": 2,
       "version_minor": 0
      },
      "text/plain": [
       "modules.json:   0%|          | 0.00/349 [00:00<?, ?B/s]"
      ]
     },
     "metadata": {},
     "output_type": "display_data"
    },
    {
     "data": {
      "application/vnd.jupyter.widget-view+json": {
       "model_id": "de8eff2e80f046dd9cf1178fec2dfd89",
       "version_major": 2,
       "version_minor": 0
      },
      "text/plain": [
       "config_sentence_transformers.json:   0%|          | 0.00/116 [00:00<?, ?B/s]"
      ]
     },
     "metadata": {},
     "output_type": "display_data"
    },
    {
     "data": {
      "application/vnd.jupyter.widget-view+json": {
       "model_id": "30124a42191d4a54ad4e8327faf72c24",
       "version_major": 2,
       "version_minor": 0
      },
      "text/plain": [
       "README.md: 0.00B [00:00, ?B/s]"
      ]
     },
     "metadata": {},
     "output_type": "display_data"
    },
    {
     "data": {
      "application/vnd.jupyter.widget-view+json": {
       "model_id": "f3e31341ca034485b962093759c5b3bb",
       "version_major": 2,
       "version_minor": 0
      },
      "text/plain": [
       "sentence_bert_config.json:   0%|          | 0.00/53.0 [00:00<?, ?B/s]"
      ]
     },
     "metadata": {},
     "output_type": "display_data"
    },
    {
     "data": {
      "application/vnd.jupyter.widget-view+json": {
       "model_id": "238f222643034fde882f1094a9fe9b19",
       "version_major": 2,
       "version_minor": 0
      },
      "text/plain": [
       "config.json:   0%|          | 0.00/612 [00:00<?, ?B/s]"
      ]
     },
     "metadata": {},
     "output_type": "display_data"
    },
    {
     "name": "stderr",
     "output_type": "stream",
     "text": [
      "Xet Storage is enabled for this repo, but the 'hf_xet' package is not installed. Falling back to regular HTTP download. For better performance, install the package with: `pip install huggingface_hub[hf_xet]` or `pip install hf_xet`\n"
     ]
    },
    {
     "data": {
      "application/vnd.jupyter.widget-view+json": {
       "model_id": "4968a3cac8134f0b9731e8ebd6549d33",
       "version_major": 2,
       "version_minor": 0
      },
      "text/plain": [
       "model.safetensors:   0%|          | 0.00/90.9M [00:00<?, ?B/s]"
      ]
     },
     "metadata": {},
     "output_type": "display_data"
    },
    {
     "data": {
      "application/vnd.jupyter.widget-view+json": {
       "model_id": "d08651cf382644ad8f4d810e0bd1c019",
       "version_major": 2,
       "version_minor": 0
      },
      "text/plain": [
       "tokenizer_config.json:   0%|          | 0.00/350 [00:00<?, ?B/s]"
      ]
     },
     "metadata": {},
     "output_type": "display_data"
    },
    {
     "data": {
      "application/vnd.jupyter.widget-view+json": {
       "model_id": "d149d61306294746812b4f4dd4f93080",
       "version_major": 2,
       "version_minor": 0
      },
      "text/plain": [
       "vocab.txt: 0.00B [00:00, ?B/s]"
      ]
     },
     "metadata": {},
     "output_type": "display_data"
    },
    {
     "data": {
      "application/vnd.jupyter.widget-view+json": {
       "model_id": "cf5480a2dcf94dd5b948d8ec16416b2c",
       "version_major": 2,
       "version_minor": 0
      },
      "text/plain": [
       "tokenizer.json: 0.00B [00:00, ?B/s]"
      ]
     },
     "metadata": {},
     "output_type": "display_data"
    },
    {
     "data": {
      "application/vnd.jupyter.widget-view+json": {
       "model_id": "00994b48fcf84b7e9cc6ffde4a4604e5",
       "version_major": 2,
       "version_minor": 0
      },
      "text/plain": [
       "special_tokens_map.json:   0%|          | 0.00/112 [00:00<?, ?B/s]"
      ]
     },
     "metadata": {},
     "output_type": "display_data"
    },
    {
     "data": {
      "application/vnd.jupyter.widget-view+json": {
       "model_id": "35167838c0a6491f95b34c5341b3a576",
       "version_major": 2,
       "version_minor": 0
      },
      "text/plain": [
       "config.json:   0%|          | 0.00/190 [00:00<?, ?B/s]"
      ]
     },
     "metadata": {},
     "output_type": "display_data"
    },
    {
     "data": {
      "application/vnd.jupyter.widget-view+json": {
       "model_id": "88c4c1c1947642088bf78421c848dad4",
       "version_major": 2,
       "version_minor": 0
      },
      "text/plain": [
       "Batches:   0%|          | 0/17 [00:00<?, ?it/s]"
      ]
     },
     "metadata": {},
     "output_type": "display_data"
    },
    {
     "name": "stderr",
     "output_type": "stream",
     "text": [
      "2025-07-14 15:25:43,274 - BERTopic - Embedding - Completed ✓\n",
      "2025-07-14 15:25:43,286 - BERTopic - Dimensionality - Fitting the dimensionality reduction algorithm\n",
      "2025-07-14 15:26:29,270 - BERTopic - Dimensionality - Completed ✓\n",
      "2025-07-14 15:26:29,289 - BERTopic - Cluster - Start clustering the reduced embeddings\n",
      "2025-07-14 15:26:29,416 - BERTopic - Cluster - Completed ✓\n",
      "2025-07-14 15:26:29,458 - BERTopic - Representation - Fine-tuning topics using representation models.\n",
      "2025-07-14 15:26:29,568 - BERTopic - Representation - Completed ✓\n"
     ]
    },
    {
     "data": {
      "text/html": [
       "<div>\n",
       "<style scoped>\n",
       "    .dataframe tbody tr th:only-of-type {\n",
       "        vertical-align: middle;\n",
       "    }\n",
       "\n",
       "    .dataframe tbody tr th {\n",
       "        vertical-align: top;\n",
       "    }\n",
       "\n",
       "    .dataframe thead th {\n",
       "        text-align: right;\n",
       "    }\n",
       "</style>\n",
       "<table border=\"1\" class=\"dataframe\">\n",
       "  <thead>\n",
       "    <tr style=\"text-align: right;\">\n",
       "      <th></th>\n",
       "      <th>Topic</th>\n",
       "      <th>Count</th>\n",
       "      <th>Name</th>\n",
       "      <th>Representation</th>\n",
       "      <th>Representative_Docs</th>\n",
       "    </tr>\n",
       "  </thead>\n",
       "  <tbody>\n",
       "    <tr>\n",
       "      <th>0</th>\n",
       "      <td>-1</td>\n",
       "      <td>1</td>\n",
       "      <td>-1_joe_figured_fix_it</td>\n",
       "      <td>[joe, figured, fix, it, out, how, all, has, to, ]</td>\n",
       "      <td>[joe has it all figured out how to fix it]</td>\n",
       "    </tr>\n",
       "    <tr>\n",
       "      <th>1</th>\n",
       "      <td>0</td>\n",
       "      <td>424</td>\n",
       "      <td>0_the_to_of_and</td>\n",
       "      <td>[the, to, of, and, is, in, that, we, it, are]</td>\n",
       "      <td>[you know how people say the earths climate ha...</td>\n",
       "    </tr>\n",
       "    <tr>\n",
       "      <th>2</th>\n",
       "      <td>1</td>\n",
       "      <td>59</td>\n",
       "      <td>1_bs_jusst_factvxrayy_vote</td>\n",
       "      <td>[bs, jusst, factvxrayy, vote, jess, unfortunat...</td>\n",
       "      <td>[bs, bs, re ord being from somethinglolol]</td>\n",
       "    </tr>\n",
       "    <tr>\n",
       "      <th>3</th>\n",
       "      <td>2</td>\n",
       "      <td>21</td>\n",
       "      <td>2_silva_american_motzi_spelling</td>\n",
       "      <td>[silva, american, motzi, spelling, spelled, ke...</td>\n",
       "      <td>[john kerry to the rescue with his private jet...</td>\n",
       "    </tr>\n",
       "    <tr>\n",
       "      <th>4</th>\n",
       "      <td>3</td>\n",
       "      <td>17</td>\n",
       "      <td>3_de_anos_que_temperaturas</td>\n",
       "      <td>[de, anos, que, temperaturas, no, dos, planeta...</td>\n",
       "      <td>[es triste todo lo que esta pasando todo se de...</td>\n",
       "    </tr>\n",
       "  </tbody>\n",
       "</table>\n",
       "</div>"
      ],
      "text/plain": [
       "   Topic  Count                             Name  \\\n",
       "0     -1      1            -1_joe_figured_fix_it   \n",
       "1      0    424                  0_the_to_of_and   \n",
       "2      1     59       1_bs_jusst_factvxrayy_vote   \n",
       "3      2     21  2_silva_american_motzi_spelling   \n",
       "4      3     17       3_de_anos_que_temperaturas   \n",
       "\n",
       "                                      Representation  \\\n",
       "0  [joe, figured, fix, it, out, how, all, has, to, ]   \n",
       "1      [the, to, of, and, is, in, that, we, it, are]   \n",
       "2  [bs, jusst, factvxrayy, vote, jess, unfortunat...   \n",
       "3  [silva, american, motzi, spelling, spelled, ke...   \n",
       "4  [de, anos, que, temperaturas, no, dos, planeta...   \n",
       "\n",
       "                                 Representative_Docs  \n",
       "0         [joe has it all figured out how to fix it]  \n",
       "1  [you know how people say the earths climate ha...  \n",
       "2         [bs, bs, re ord being from somethinglolol]  \n",
       "3  [john kerry to the rescue with his private jet...  \n",
       "4  [es triste todo lo que esta pasando todo se de...  "
      ]
     },
     "execution_count": 9,
     "metadata": {},
     "output_type": "execute_result"
    }
   ],
   "source": [
    "\n",
    "from bertopic import BERTopic\n",
    "from sklearn.feature_extraction.text import CountVectorizer\n",
    "import pandas as pd\n",
    "\n",
    "# Use the cleaned comments\n",
    "docs = df[\"clean_comment\"].dropna().tolist()\n",
    "\n",
    "# Create BERTopic model\n",
    "topic_model = BERTopic(language=\"english\", calculate_probabilities=True, verbose=True)\n",
    "\n",
    "# Fit the model\n",
    "topics, probs = topic_model.fit_transform(docs)\n",
    "\n",
    "# Store topics in DataFrame\n",
    "df[\"topic\"] = topics\n",
    "\n",
    "# Show top topics\n",
    "topic_model.get_topic_info().head(10)\n"
   ]
  },
  {
   "cell_type": "code",
   "execution_count": 10,
   "id": "da49e8d6",
   "metadata": {},
   "outputs": [
    {
     "data": {
      "application/vnd.plotly.v1+json": {
       "config": {
        "plotlyServerURL": "https://plot.ly"
       },
       "data": [
        {
         "customdata": [
          [
           0,
           "the | to | of | and | is",
           424
          ],
          [
           1,
           "bs | jusst | factvxrayy | vote | jess",
           59
          ],
          [
           2,
           "silva | american | motzi | spelling | spelled",
           21
          ],
          [
           3,
           "de | anos | que | temperaturas | no",
           17
          ]
         ],
         "hovertemplate": "<b>Topic %{customdata[0]}</b><br>%{customdata[1]}<br>Size: %{customdata[2]}",
         "legendgroup": "",
         "marker": {
          "color": "#B0BEC5",
          "line": {
           "color": "DarkSlateGrey",
           "width": 2
          },
          "size": {
           "bdata": "qAE7ABUAEQA=",
           "dtype": "i2"
          },
          "sizemode": "area",
          "sizeref": 0.265,
          "symbol": "circle"
         },
         "mode": "markers",
         "name": "",
         "orientation": "v",
         "showlegend": false,
         "type": "scatter",
         "x": {
          "bdata": "XtqLQRkwjUFYrZFBr3CMQQ==",
          "dtype": "f4"
         },
         "xaxis": "x",
         "y": {
          "bdata": "IXQQQVFQAUHOavFAEkgbQQ==",
          "dtype": "f4"
         },
         "yaxis": "y"
        }
       ],
       "layout": {
        "annotations": [
         {
          "showarrow": false,
          "text": "D1",
          "x": 14.859380912780761,
          "y": 8.7867520570755,
          "yshift": 10
         },
         {
          "showarrow": false,
          "text": "D2",
          "x": 17.90023374557495,
          "xshift": 10,
          "y": 11.16085958480835
         }
        ],
        "height": 650,
        "hoverlabel": {
         "bgcolor": "white",
         "font": {
          "family": "Rockwell",
          "size": 16
         }
        },
        "legend": {
         "itemsizing": "constant",
         "tracegroupgap": 0
        },
        "margin": {
         "t": 60
        },
        "shapes": [
         {
          "line": {
           "color": "#CFD8DC",
           "width": 2
          },
          "type": "line",
          "x0": 17.90023374557495,
          "x1": 17.90023374557495,
          "y0": 6.412644529342652,
          "y1": 11.16085958480835
         },
         {
          "line": {
           "color": "#9E9E9E",
           "width": 2
          },
          "type": "line",
          "x0": 14.859380912780761,
          "x1": 20.94108657836914,
          "y0": 8.7867520570755,
          "y1": 8.7867520570755
         }
        ],
        "sliders": [
         {
          "active": 0,
          "pad": {
           "t": 50
          },
          "steps": [
           {
            "args": [
             {
              "marker.color": [
               [
                "red",
                "#B0BEC5",
                "#B0BEC5",
                "#B0BEC5"
               ]
              ]
             }
            ],
            "label": "Topic 0",
            "method": "update"
           },
           {
            "args": [
             {
              "marker.color": [
               [
                "#B0BEC5",
                "red",
                "#B0BEC5",
                "#B0BEC5"
               ]
              ]
             }
            ],
            "label": "Topic 1",
            "method": "update"
           },
           {
            "args": [
             {
              "marker.color": [
               [
                "#B0BEC5",
                "#B0BEC5",
                "red",
                "#B0BEC5"
               ]
              ]
             }
            ],
            "label": "Topic 2",
            "method": "update"
           },
           {
            "args": [
             {
              "marker.color": [
               [
                "#B0BEC5",
                "#B0BEC5",
                "#B0BEC5",
                "red"
               ]
              ]
             }
            ],
            "label": "Topic 3",
            "method": "update"
           }
          ]
         }
        ],
        "template": {
         "data": {
          "bar": [
           {
            "error_x": {
             "color": "rgb(36,36,36)"
            },
            "error_y": {
             "color": "rgb(36,36,36)"
            },
            "marker": {
             "line": {
              "color": "white",
              "width": 0.5
             },
             "pattern": {
              "fillmode": "overlay",
              "size": 10,
              "solidity": 0.2
             }
            },
            "type": "bar"
           }
          ],
          "barpolar": [
           {
            "marker": {
             "line": {
              "color": "white",
              "width": 0.5
             },
             "pattern": {
              "fillmode": "overlay",
              "size": 10,
              "solidity": 0.2
             }
            },
            "type": "barpolar"
           }
          ],
          "carpet": [
           {
            "aaxis": {
             "endlinecolor": "rgb(36,36,36)",
             "gridcolor": "white",
             "linecolor": "white",
             "minorgridcolor": "white",
             "startlinecolor": "rgb(36,36,36)"
            },
            "baxis": {
             "endlinecolor": "rgb(36,36,36)",
             "gridcolor": "white",
             "linecolor": "white",
             "minorgridcolor": "white",
             "startlinecolor": "rgb(36,36,36)"
            },
            "type": "carpet"
           }
          ],
          "choropleth": [
           {
            "colorbar": {
             "outlinewidth": 1,
             "tickcolor": "rgb(36,36,36)",
             "ticks": "outside"
            },
            "type": "choropleth"
           }
          ],
          "contour": [
           {
            "colorbar": {
             "outlinewidth": 1,
             "tickcolor": "rgb(36,36,36)",
             "ticks": "outside"
            },
            "colorscale": [
             [
              0,
              "#440154"
             ],
             [
              0.1111111111111111,
              "#482878"
             ],
             [
              0.2222222222222222,
              "#3e4989"
             ],
             [
              0.3333333333333333,
              "#31688e"
             ],
             [
              0.4444444444444444,
              "#26828e"
             ],
             [
              0.5555555555555556,
              "#1f9e89"
             ],
             [
              0.6666666666666666,
              "#35b779"
             ],
             [
              0.7777777777777778,
              "#6ece58"
             ],
             [
              0.8888888888888888,
              "#b5de2b"
             ],
             [
              1,
              "#fde725"
             ]
            ],
            "type": "contour"
           }
          ],
          "contourcarpet": [
           {
            "colorbar": {
             "outlinewidth": 1,
             "tickcolor": "rgb(36,36,36)",
             "ticks": "outside"
            },
            "type": "contourcarpet"
           }
          ],
          "heatmap": [
           {
            "colorbar": {
             "outlinewidth": 1,
             "tickcolor": "rgb(36,36,36)",
             "ticks": "outside"
            },
            "colorscale": [
             [
              0,
              "#440154"
             ],
             [
              0.1111111111111111,
              "#482878"
             ],
             [
              0.2222222222222222,
              "#3e4989"
             ],
             [
              0.3333333333333333,
              "#31688e"
             ],
             [
              0.4444444444444444,
              "#26828e"
             ],
             [
              0.5555555555555556,
              "#1f9e89"
             ],
             [
              0.6666666666666666,
              "#35b779"
             ],
             [
              0.7777777777777778,
              "#6ece58"
             ],
             [
              0.8888888888888888,
              "#b5de2b"
             ],
             [
              1,
              "#fde725"
             ]
            ],
            "type": "heatmap"
           }
          ],
          "histogram": [
           {
            "marker": {
             "line": {
              "color": "white",
              "width": 0.6
             }
            },
            "type": "histogram"
           }
          ],
          "histogram2d": [
           {
            "colorbar": {
             "outlinewidth": 1,
             "tickcolor": "rgb(36,36,36)",
             "ticks": "outside"
            },
            "colorscale": [
             [
              0,
              "#440154"
             ],
             [
              0.1111111111111111,
              "#482878"
             ],
             [
              0.2222222222222222,
              "#3e4989"
             ],
             [
              0.3333333333333333,
              "#31688e"
             ],
             [
              0.4444444444444444,
              "#26828e"
             ],
             [
              0.5555555555555556,
              "#1f9e89"
             ],
             [
              0.6666666666666666,
              "#35b779"
             ],
             [
              0.7777777777777778,
              "#6ece58"
             ],
             [
              0.8888888888888888,
              "#b5de2b"
             ],
             [
              1,
              "#fde725"
             ]
            ],
            "type": "histogram2d"
           }
          ],
          "histogram2dcontour": [
           {
            "colorbar": {
             "outlinewidth": 1,
             "tickcolor": "rgb(36,36,36)",
             "ticks": "outside"
            },
            "colorscale": [
             [
              0,
              "#440154"
             ],
             [
              0.1111111111111111,
              "#482878"
             ],
             [
              0.2222222222222222,
              "#3e4989"
             ],
             [
              0.3333333333333333,
              "#31688e"
             ],
             [
              0.4444444444444444,
              "#26828e"
             ],
             [
              0.5555555555555556,
              "#1f9e89"
             ],
             [
              0.6666666666666666,
              "#35b779"
             ],
             [
              0.7777777777777778,
              "#6ece58"
             ],
             [
              0.8888888888888888,
              "#b5de2b"
             ],
             [
              1,
              "#fde725"
             ]
            ],
            "type": "histogram2dcontour"
           }
          ],
          "mesh3d": [
           {
            "colorbar": {
             "outlinewidth": 1,
             "tickcolor": "rgb(36,36,36)",
             "ticks": "outside"
            },
            "type": "mesh3d"
           }
          ],
          "parcoords": [
           {
            "line": {
             "colorbar": {
              "outlinewidth": 1,
              "tickcolor": "rgb(36,36,36)",
              "ticks": "outside"
             }
            },
            "type": "parcoords"
           }
          ],
          "pie": [
           {
            "automargin": true,
            "type": "pie"
           }
          ],
          "scatter": [
           {
            "fillpattern": {
             "fillmode": "overlay",
             "size": 10,
             "solidity": 0.2
            },
            "type": "scatter"
           }
          ],
          "scatter3d": [
           {
            "line": {
             "colorbar": {
              "outlinewidth": 1,
              "tickcolor": "rgb(36,36,36)",
              "ticks": "outside"
             }
            },
            "marker": {
             "colorbar": {
              "outlinewidth": 1,
              "tickcolor": "rgb(36,36,36)",
              "ticks": "outside"
             }
            },
            "type": "scatter3d"
           }
          ],
          "scattercarpet": [
           {
            "marker": {
             "colorbar": {
              "outlinewidth": 1,
              "tickcolor": "rgb(36,36,36)",
              "ticks": "outside"
             }
            },
            "type": "scattercarpet"
           }
          ],
          "scattergeo": [
           {
            "marker": {
             "colorbar": {
              "outlinewidth": 1,
              "tickcolor": "rgb(36,36,36)",
              "ticks": "outside"
             }
            },
            "type": "scattergeo"
           }
          ],
          "scattergl": [
           {
            "marker": {
             "colorbar": {
              "outlinewidth": 1,
              "tickcolor": "rgb(36,36,36)",
              "ticks": "outside"
             }
            },
            "type": "scattergl"
           }
          ],
          "scattermap": [
           {
            "marker": {
             "colorbar": {
              "outlinewidth": 1,
              "tickcolor": "rgb(36,36,36)",
              "ticks": "outside"
             }
            },
            "type": "scattermap"
           }
          ],
          "scattermapbox": [
           {
            "marker": {
             "colorbar": {
              "outlinewidth": 1,
              "tickcolor": "rgb(36,36,36)",
              "ticks": "outside"
             }
            },
            "type": "scattermapbox"
           }
          ],
          "scatterpolar": [
           {
            "marker": {
             "colorbar": {
              "outlinewidth": 1,
              "tickcolor": "rgb(36,36,36)",
              "ticks": "outside"
             }
            },
            "type": "scatterpolar"
           }
          ],
          "scatterpolargl": [
           {
            "marker": {
             "colorbar": {
              "outlinewidth": 1,
              "tickcolor": "rgb(36,36,36)",
              "ticks": "outside"
             }
            },
            "type": "scatterpolargl"
           }
          ],
          "scatterternary": [
           {
            "marker": {
             "colorbar": {
              "outlinewidth": 1,
              "tickcolor": "rgb(36,36,36)",
              "ticks": "outside"
             }
            },
            "type": "scatterternary"
           }
          ],
          "surface": [
           {
            "colorbar": {
             "outlinewidth": 1,
             "tickcolor": "rgb(36,36,36)",
             "ticks": "outside"
            },
            "colorscale": [
             [
              0,
              "#440154"
             ],
             [
              0.1111111111111111,
              "#482878"
             ],
             [
              0.2222222222222222,
              "#3e4989"
             ],
             [
              0.3333333333333333,
              "#31688e"
             ],
             [
              0.4444444444444444,
              "#26828e"
             ],
             [
              0.5555555555555556,
              "#1f9e89"
             ],
             [
              0.6666666666666666,
              "#35b779"
             ],
             [
              0.7777777777777778,
              "#6ece58"
             ],
             [
              0.8888888888888888,
              "#b5de2b"
             ],
             [
              1,
              "#fde725"
             ]
            ],
            "type": "surface"
           }
          ],
          "table": [
           {
            "cells": {
             "fill": {
              "color": "rgb(237,237,237)"
             },
             "line": {
              "color": "white"
             }
            },
            "header": {
             "fill": {
              "color": "rgb(217,217,217)"
             },
             "line": {
              "color": "white"
             }
            },
            "type": "table"
           }
          ]
         },
         "layout": {
          "annotationdefaults": {
           "arrowhead": 0,
           "arrowwidth": 1
          },
          "autotypenumbers": "strict",
          "coloraxis": {
           "colorbar": {
            "outlinewidth": 1,
            "tickcolor": "rgb(36,36,36)",
            "ticks": "outside"
           }
          },
          "colorscale": {
           "diverging": [
            [
             0,
             "rgb(103,0,31)"
            ],
            [
             0.1,
             "rgb(178,24,43)"
            ],
            [
             0.2,
             "rgb(214,96,77)"
            ],
            [
             0.3,
             "rgb(244,165,130)"
            ],
            [
             0.4,
             "rgb(253,219,199)"
            ],
            [
             0.5,
             "rgb(247,247,247)"
            ],
            [
             0.6,
             "rgb(209,229,240)"
            ],
            [
             0.7,
             "rgb(146,197,222)"
            ],
            [
             0.8,
             "rgb(67,147,195)"
            ],
            [
             0.9,
             "rgb(33,102,172)"
            ],
            [
             1,
             "rgb(5,48,97)"
            ]
           ],
           "sequential": [
            [
             0,
             "#440154"
            ],
            [
             0.1111111111111111,
             "#482878"
            ],
            [
             0.2222222222222222,
             "#3e4989"
            ],
            [
             0.3333333333333333,
             "#31688e"
            ],
            [
             0.4444444444444444,
             "#26828e"
            ],
            [
             0.5555555555555556,
             "#1f9e89"
            ],
            [
             0.6666666666666666,
             "#35b779"
            ],
            [
             0.7777777777777778,
             "#6ece58"
            ],
            [
             0.8888888888888888,
             "#b5de2b"
            ],
            [
             1,
             "#fde725"
            ]
           ],
           "sequentialminus": [
            [
             0,
             "#440154"
            ],
            [
             0.1111111111111111,
             "#482878"
            ],
            [
             0.2222222222222222,
             "#3e4989"
            ],
            [
             0.3333333333333333,
             "#31688e"
            ],
            [
             0.4444444444444444,
             "#26828e"
            ],
            [
             0.5555555555555556,
             "#1f9e89"
            ],
            [
             0.6666666666666666,
             "#35b779"
            ],
            [
             0.7777777777777778,
             "#6ece58"
            ],
            [
             0.8888888888888888,
             "#b5de2b"
            ],
            [
             1,
             "#fde725"
            ]
           ]
          },
          "colorway": [
           "#1F77B4",
           "#FF7F0E",
           "#2CA02C",
           "#D62728",
           "#9467BD",
           "#8C564B",
           "#E377C2",
           "#7F7F7F",
           "#BCBD22",
           "#17BECF"
          ],
          "font": {
           "color": "rgb(36,36,36)"
          },
          "geo": {
           "bgcolor": "white",
           "lakecolor": "white",
           "landcolor": "white",
           "showlakes": true,
           "showland": true,
           "subunitcolor": "white"
          },
          "hoverlabel": {
           "align": "left"
          },
          "hovermode": "closest",
          "mapbox": {
           "style": "light"
          },
          "paper_bgcolor": "white",
          "plot_bgcolor": "white",
          "polar": {
           "angularaxis": {
            "gridcolor": "rgb(232,232,232)",
            "linecolor": "rgb(36,36,36)",
            "showgrid": false,
            "showline": true,
            "ticks": "outside"
           },
           "bgcolor": "white",
           "radialaxis": {
            "gridcolor": "rgb(232,232,232)",
            "linecolor": "rgb(36,36,36)",
            "showgrid": false,
            "showline": true,
            "ticks": "outside"
           }
          },
          "scene": {
           "xaxis": {
            "backgroundcolor": "white",
            "gridcolor": "rgb(232,232,232)",
            "gridwidth": 2,
            "linecolor": "rgb(36,36,36)",
            "showbackground": true,
            "showgrid": false,
            "showline": true,
            "ticks": "outside",
            "zeroline": false,
            "zerolinecolor": "rgb(36,36,36)"
           },
           "yaxis": {
            "backgroundcolor": "white",
            "gridcolor": "rgb(232,232,232)",
            "gridwidth": 2,
            "linecolor": "rgb(36,36,36)",
            "showbackground": true,
            "showgrid": false,
            "showline": true,
            "ticks": "outside",
            "zeroline": false,
            "zerolinecolor": "rgb(36,36,36)"
           },
           "zaxis": {
            "backgroundcolor": "white",
            "gridcolor": "rgb(232,232,232)",
            "gridwidth": 2,
            "linecolor": "rgb(36,36,36)",
            "showbackground": true,
            "showgrid": false,
            "showline": true,
            "ticks": "outside",
            "zeroline": false,
            "zerolinecolor": "rgb(36,36,36)"
           }
          },
          "shapedefaults": {
           "fillcolor": "black",
           "line": {
            "width": 0
           },
           "opacity": 0.3
          },
          "ternary": {
           "aaxis": {
            "gridcolor": "rgb(232,232,232)",
            "linecolor": "rgb(36,36,36)",
            "showgrid": false,
            "showline": true,
            "ticks": "outside"
           },
           "baxis": {
            "gridcolor": "rgb(232,232,232)",
            "linecolor": "rgb(36,36,36)",
            "showgrid": false,
            "showline": true,
            "ticks": "outside"
           },
           "bgcolor": "white",
           "caxis": {
            "gridcolor": "rgb(232,232,232)",
            "linecolor": "rgb(36,36,36)",
            "showgrid": false,
            "showline": true,
            "ticks": "outside"
           }
          },
          "title": {
           "x": 0.05
          },
          "xaxis": {
           "automargin": true,
           "gridcolor": "rgb(232,232,232)",
           "linecolor": "rgb(36,36,36)",
           "showgrid": false,
           "showline": true,
           "ticks": "outside",
           "title": {
            "standoff": 15
           },
           "zeroline": false,
           "zerolinecolor": "rgb(36,36,36)"
          },
          "yaxis": {
           "automargin": true,
           "gridcolor": "rgb(232,232,232)",
           "linecolor": "rgb(36,36,36)",
           "showgrid": false,
           "showline": true,
           "ticks": "outside",
           "title": {
            "standoff": 15
           },
           "zeroline": false,
           "zerolinecolor": "rgb(36,36,36)"
          }
         }
        },
        "title": {
         "font": {
          "color": "Black",
          "size": 22
         },
         "text": "<b>Intertopic Distance Map</b>",
         "x": 0.5,
         "xanchor": "center",
         "y": 0.95,
         "yanchor": "top"
        },
        "width": 650,
        "xaxis": {
         "anchor": "y",
         "domain": [
          0,
          1
         ],
         "range": [
          14.859380912780761,
          20.94108657836914
         ],
         "title": {
          "text": ""
         },
         "visible": false
        },
        "yaxis": {
         "anchor": "x",
         "domain": [
          0,
          1
         ],
         "range": [
          6.412644529342652,
          11.16085958480835
         ],
         "title": {
          "text": ""
         },
         "visible": false
        }
       }
      }
     },
     "metadata": {},
     "output_type": "display_data"
    }
   ],
   "source": [
    "# Interactive topic visualization\n",
    "topic_model.visualize_topics()\n"
   ]
  },
  {
   "cell_type": "code",
   "execution_count": 11,
   "id": "3cfd6851",
   "metadata": {},
   "outputs": [
    {
     "data": {
      "application/vnd.plotly.v1+json": {
       "config": {
        "plotlyServerURL": "https://plot.ly"
       },
       "data": [
        {
         "marker": {
          "color": "#D55E00"
         },
         "orientation": "h",
         "type": "bar",
         "x": [
          0.04812935777364247,
          0.05161272140262854,
          0.054009121605364634,
          0.06261145502355092,
          0.0883511706967146
         ],
         "xaxis": "x",
         "y": [
          "is  ",
          "and  ",
          "of  ",
          "to  ",
          "the  "
         ],
         "yaxis": "y"
        },
        {
         "marker": {
          "color": "#0072B2"
         },
         "orientation": "h",
         "type": "bar",
         "x": [
          0.21099912377614732,
          0.21099912377614732,
          0.21099912377614732,
          0.21099912377614732,
          0.3642112198093494
         ],
         "xaxis": "x2",
         "y": [
          "jess  ",
          "vote  ",
          "factvxrayy  ",
          "jusst  ",
          "bs  "
         ],
         "yaxis": "y2"
        },
        {
         "marker": {
          "color": "#CC79A7"
         },
         "orientation": "h",
         "type": "bar",
         "x": [
          0.1027944449165846,
          0.1027944449165846,
          0.1027944449165846,
          0.1027944449165846,
          0.18782433225527115
         ],
         "xaxis": "x3",
         "y": [
          "spelled  ",
          "spelling  ",
          "motzi  ",
          "american  ",
          "silva  "
         ],
         "yaxis": "y3"
        },
        {
         "marker": {
          "color": "#E69F00"
         },
         "orientation": "h",
         "type": "bar",
         "x": [
          0.09390439240342623,
          0.09601339686689943,
          0.11552207325227336,
          0.13422249414950563,
          0.23502848757047576
         ],
         "xaxis": "x4",
         "y": [
          "no  ",
          "temperaturas  ",
          "que  ",
          "anos  ",
          "de  "
         ],
         "yaxis": "y4"
        }
       ],
       "layout": {
        "annotations": [
         {
          "font": {
           "size": 16
          },
          "showarrow": false,
          "text": "Topic 0",
          "x": 0.0875,
          "xanchor": "center",
          "xref": "paper",
          "y": 1,
          "yanchor": "bottom",
          "yref": "paper"
         },
         {
          "font": {
           "size": 16
          },
          "showarrow": false,
          "text": "Topic 1",
          "x": 0.36250000000000004,
          "xanchor": "center",
          "xref": "paper",
          "y": 1,
          "yanchor": "bottom",
          "yref": "paper"
         },
         {
          "font": {
           "size": 16
          },
          "showarrow": false,
          "text": "Topic 2",
          "x": 0.6375000000000001,
          "xanchor": "center",
          "xref": "paper",
          "y": 1,
          "yanchor": "bottom",
          "yref": "paper"
         },
         {
          "font": {
           "size": 16
          },
          "showarrow": false,
          "text": "Topic 3",
          "x": 0.9125,
          "xanchor": "center",
          "xref": "paper",
          "y": 1,
          "yanchor": "bottom",
          "yref": "paper"
         }
        ],
        "height": 325,
        "hoverlabel": {
         "bgcolor": "white",
         "font": {
          "family": "Rockwell",
          "size": 16
         }
        },
        "showlegend": false,
        "template": {
         "data": {
          "bar": [
           {
            "error_x": {
             "color": "#2a3f5f"
            },
            "error_y": {
             "color": "#2a3f5f"
            },
            "marker": {
             "line": {
              "color": "white",
              "width": 0.5
             },
             "pattern": {
              "fillmode": "overlay",
              "size": 10,
              "solidity": 0.2
             }
            },
            "type": "bar"
           }
          ],
          "barpolar": [
           {
            "marker": {
             "line": {
              "color": "white",
              "width": 0.5
             },
             "pattern": {
              "fillmode": "overlay",
              "size": 10,
              "solidity": 0.2
             }
            },
            "type": "barpolar"
           }
          ],
          "carpet": [
           {
            "aaxis": {
             "endlinecolor": "#2a3f5f",
             "gridcolor": "#C8D4E3",
             "linecolor": "#C8D4E3",
             "minorgridcolor": "#C8D4E3",
             "startlinecolor": "#2a3f5f"
            },
            "baxis": {
             "endlinecolor": "#2a3f5f",
             "gridcolor": "#C8D4E3",
             "linecolor": "#C8D4E3",
             "minorgridcolor": "#C8D4E3",
             "startlinecolor": "#2a3f5f"
            },
            "type": "carpet"
           }
          ],
          "choropleth": [
           {
            "colorbar": {
             "outlinewidth": 0,
             "ticks": ""
            },
            "type": "choropleth"
           }
          ],
          "contour": [
           {
            "colorbar": {
             "outlinewidth": 0,
             "ticks": ""
            },
            "colorscale": [
             [
              0,
              "#0d0887"
             ],
             [
              0.1111111111111111,
              "#46039f"
             ],
             [
              0.2222222222222222,
              "#7201a8"
             ],
             [
              0.3333333333333333,
              "#9c179e"
             ],
             [
              0.4444444444444444,
              "#bd3786"
             ],
             [
              0.5555555555555556,
              "#d8576b"
             ],
             [
              0.6666666666666666,
              "#ed7953"
             ],
             [
              0.7777777777777778,
              "#fb9f3a"
             ],
             [
              0.8888888888888888,
              "#fdca26"
             ],
             [
              1,
              "#f0f921"
             ]
            ],
            "type": "contour"
           }
          ],
          "contourcarpet": [
           {
            "colorbar": {
             "outlinewidth": 0,
             "ticks": ""
            },
            "type": "contourcarpet"
           }
          ],
          "heatmap": [
           {
            "colorbar": {
             "outlinewidth": 0,
             "ticks": ""
            },
            "colorscale": [
             [
              0,
              "#0d0887"
             ],
             [
              0.1111111111111111,
              "#46039f"
             ],
             [
              0.2222222222222222,
              "#7201a8"
             ],
             [
              0.3333333333333333,
              "#9c179e"
             ],
             [
              0.4444444444444444,
              "#bd3786"
             ],
             [
              0.5555555555555556,
              "#d8576b"
             ],
             [
              0.6666666666666666,
              "#ed7953"
             ],
             [
              0.7777777777777778,
              "#fb9f3a"
             ],
             [
              0.8888888888888888,
              "#fdca26"
             ],
             [
              1,
              "#f0f921"
             ]
            ],
            "type": "heatmap"
           }
          ],
          "histogram": [
           {
            "marker": {
             "pattern": {
              "fillmode": "overlay",
              "size": 10,
              "solidity": 0.2
             }
            },
            "type": "histogram"
           }
          ],
          "histogram2d": [
           {
            "colorbar": {
             "outlinewidth": 0,
             "ticks": ""
            },
            "colorscale": [
             [
              0,
              "#0d0887"
             ],
             [
              0.1111111111111111,
              "#46039f"
             ],
             [
              0.2222222222222222,
              "#7201a8"
             ],
             [
              0.3333333333333333,
              "#9c179e"
             ],
             [
              0.4444444444444444,
              "#bd3786"
             ],
             [
              0.5555555555555556,
              "#d8576b"
             ],
             [
              0.6666666666666666,
              "#ed7953"
             ],
             [
              0.7777777777777778,
              "#fb9f3a"
             ],
             [
              0.8888888888888888,
              "#fdca26"
             ],
             [
              1,
              "#f0f921"
             ]
            ],
            "type": "histogram2d"
           }
          ],
          "histogram2dcontour": [
           {
            "colorbar": {
             "outlinewidth": 0,
             "ticks": ""
            },
            "colorscale": [
             [
              0,
              "#0d0887"
             ],
             [
              0.1111111111111111,
              "#46039f"
             ],
             [
              0.2222222222222222,
              "#7201a8"
             ],
             [
              0.3333333333333333,
              "#9c179e"
             ],
             [
              0.4444444444444444,
              "#bd3786"
             ],
             [
              0.5555555555555556,
              "#d8576b"
             ],
             [
              0.6666666666666666,
              "#ed7953"
             ],
             [
              0.7777777777777778,
              "#fb9f3a"
             ],
             [
              0.8888888888888888,
              "#fdca26"
             ],
             [
              1,
              "#f0f921"
             ]
            ],
            "type": "histogram2dcontour"
           }
          ],
          "mesh3d": [
           {
            "colorbar": {
             "outlinewidth": 0,
             "ticks": ""
            },
            "type": "mesh3d"
           }
          ],
          "parcoords": [
           {
            "line": {
             "colorbar": {
              "outlinewidth": 0,
              "ticks": ""
             }
            },
            "type": "parcoords"
           }
          ],
          "pie": [
           {
            "automargin": true,
            "type": "pie"
           }
          ],
          "scatter": [
           {
            "fillpattern": {
             "fillmode": "overlay",
             "size": 10,
             "solidity": 0.2
            },
            "type": "scatter"
           }
          ],
          "scatter3d": [
           {
            "line": {
             "colorbar": {
              "outlinewidth": 0,
              "ticks": ""
             }
            },
            "marker": {
             "colorbar": {
              "outlinewidth": 0,
              "ticks": ""
             }
            },
            "type": "scatter3d"
           }
          ],
          "scattercarpet": [
           {
            "marker": {
             "colorbar": {
              "outlinewidth": 0,
              "ticks": ""
             }
            },
            "type": "scattercarpet"
           }
          ],
          "scattergeo": [
           {
            "marker": {
             "colorbar": {
              "outlinewidth": 0,
              "ticks": ""
             }
            },
            "type": "scattergeo"
           }
          ],
          "scattergl": [
           {
            "marker": {
             "colorbar": {
              "outlinewidth": 0,
              "ticks": ""
             }
            },
            "type": "scattergl"
           }
          ],
          "scattermap": [
           {
            "marker": {
             "colorbar": {
              "outlinewidth": 0,
              "ticks": ""
             }
            },
            "type": "scattermap"
           }
          ],
          "scattermapbox": [
           {
            "marker": {
             "colorbar": {
              "outlinewidth": 0,
              "ticks": ""
             }
            },
            "type": "scattermapbox"
           }
          ],
          "scatterpolar": [
           {
            "marker": {
             "colorbar": {
              "outlinewidth": 0,
              "ticks": ""
             }
            },
            "type": "scatterpolar"
           }
          ],
          "scatterpolargl": [
           {
            "marker": {
             "colorbar": {
              "outlinewidth": 0,
              "ticks": ""
             }
            },
            "type": "scatterpolargl"
           }
          ],
          "scatterternary": [
           {
            "marker": {
             "colorbar": {
              "outlinewidth": 0,
              "ticks": ""
             }
            },
            "type": "scatterternary"
           }
          ],
          "surface": [
           {
            "colorbar": {
             "outlinewidth": 0,
             "ticks": ""
            },
            "colorscale": [
             [
              0,
              "#0d0887"
             ],
             [
              0.1111111111111111,
              "#46039f"
             ],
             [
              0.2222222222222222,
              "#7201a8"
             ],
             [
              0.3333333333333333,
              "#9c179e"
             ],
             [
              0.4444444444444444,
              "#bd3786"
             ],
             [
              0.5555555555555556,
              "#d8576b"
             ],
             [
              0.6666666666666666,
              "#ed7953"
             ],
             [
              0.7777777777777778,
              "#fb9f3a"
             ],
             [
              0.8888888888888888,
              "#fdca26"
             ],
             [
              1,
              "#f0f921"
             ]
            ],
            "type": "surface"
           }
          ],
          "table": [
           {
            "cells": {
             "fill": {
              "color": "#EBF0F8"
             },
             "line": {
              "color": "white"
             }
            },
            "header": {
             "fill": {
              "color": "#C8D4E3"
             },
             "line": {
              "color": "white"
             }
            },
            "type": "table"
           }
          ]
         },
         "layout": {
          "annotationdefaults": {
           "arrowcolor": "#2a3f5f",
           "arrowhead": 0,
           "arrowwidth": 1
          },
          "autotypenumbers": "strict",
          "coloraxis": {
           "colorbar": {
            "outlinewidth": 0,
            "ticks": ""
           }
          },
          "colorscale": {
           "diverging": [
            [
             0,
             "#8e0152"
            ],
            [
             0.1,
             "#c51b7d"
            ],
            [
             0.2,
             "#de77ae"
            ],
            [
             0.3,
             "#f1b6da"
            ],
            [
             0.4,
             "#fde0ef"
            ],
            [
             0.5,
             "#f7f7f7"
            ],
            [
             0.6,
             "#e6f5d0"
            ],
            [
             0.7,
             "#b8e186"
            ],
            [
             0.8,
             "#7fbc41"
            ],
            [
             0.9,
             "#4d9221"
            ],
            [
             1,
             "#276419"
            ]
           ],
           "sequential": [
            [
             0,
             "#0d0887"
            ],
            [
             0.1111111111111111,
             "#46039f"
            ],
            [
             0.2222222222222222,
             "#7201a8"
            ],
            [
             0.3333333333333333,
             "#9c179e"
            ],
            [
             0.4444444444444444,
             "#bd3786"
            ],
            [
             0.5555555555555556,
             "#d8576b"
            ],
            [
             0.6666666666666666,
             "#ed7953"
            ],
            [
             0.7777777777777778,
             "#fb9f3a"
            ],
            [
             0.8888888888888888,
             "#fdca26"
            ],
            [
             1,
             "#f0f921"
            ]
           ],
           "sequentialminus": [
            [
             0,
             "#0d0887"
            ],
            [
             0.1111111111111111,
             "#46039f"
            ],
            [
             0.2222222222222222,
             "#7201a8"
            ],
            [
             0.3333333333333333,
             "#9c179e"
            ],
            [
             0.4444444444444444,
             "#bd3786"
            ],
            [
             0.5555555555555556,
             "#d8576b"
            ],
            [
             0.6666666666666666,
             "#ed7953"
            ],
            [
             0.7777777777777778,
             "#fb9f3a"
            ],
            [
             0.8888888888888888,
             "#fdca26"
            ],
            [
             1,
             "#f0f921"
            ]
           ]
          },
          "colorway": [
           "#636efa",
           "#EF553B",
           "#00cc96",
           "#ab63fa",
           "#FFA15A",
           "#19d3f3",
           "#FF6692",
           "#B6E880",
           "#FF97FF",
           "#FECB52"
          ],
          "font": {
           "color": "#2a3f5f"
          },
          "geo": {
           "bgcolor": "white",
           "lakecolor": "white",
           "landcolor": "white",
           "showlakes": true,
           "showland": true,
           "subunitcolor": "#C8D4E3"
          },
          "hoverlabel": {
           "align": "left"
          },
          "hovermode": "closest",
          "mapbox": {
           "style": "light"
          },
          "paper_bgcolor": "white",
          "plot_bgcolor": "white",
          "polar": {
           "angularaxis": {
            "gridcolor": "#EBF0F8",
            "linecolor": "#EBF0F8",
            "ticks": ""
           },
           "bgcolor": "white",
           "radialaxis": {
            "gridcolor": "#EBF0F8",
            "linecolor": "#EBF0F8",
            "ticks": ""
           }
          },
          "scene": {
           "xaxis": {
            "backgroundcolor": "white",
            "gridcolor": "#DFE8F3",
            "gridwidth": 2,
            "linecolor": "#EBF0F8",
            "showbackground": true,
            "ticks": "",
            "zerolinecolor": "#EBF0F8"
           },
           "yaxis": {
            "backgroundcolor": "white",
            "gridcolor": "#DFE8F3",
            "gridwidth": 2,
            "linecolor": "#EBF0F8",
            "showbackground": true,
            "ticks": "",
            "zerolinecolor": "#EBF0F8"
           },
           "zaxis": {
            "backgroundcolor": "white",
            "gridcolor": "#DFE8F3",
            "gridwidth": 2,
            "linecolor": "#EBF0F8",
            "showbackground": true,
            "ticks": "",
            "zerolinecolor": "#EBF0F8"
           }
          },
          "shapedefaults": {
           "line": {
            "color": "#2a3f5f"
           }
          },
          "ternary": {
           "aaxis": {
            "gridcolor": "#DFE8F3",
            "linecolor": "#A2B1C6",
            "ticks": ""
           },
           "baxis": {
            "gridcolor": "#DFE8F3",
            "linecolor": "#A2B1C6",
            "ticks": ""
           },
           "bgcolor": "white",
           "caxis": {
            "gridcolor": "#DFE8F3",
            "linecolor": "#A2B1C6",
            "ticks": ""
           }
          },
          "title": {
           "x": 0.05
          },
          "xaxis": {
           "automargin": true,
           "gridcolor": "#EBF0F8",
           "linecolor": "#EBF0F8",
           "ticks": "",
           "title": {
            "standoff": 15
           },
           "zerolinecolor": "#EBF0F8",
           "zerolinewidth": 2
          },
          "yaxis": {
           "automargin": true,
           "gridcolor": "#EBF0F8",
           "linecolor": "#EBF0F8",
           "ticks": "",
           "title": {
            "standoff": 15
           },
           "zerolinecolor": "#EBF0F8",
           "zerolinewidth": 2
          }
         }
        },
        "title": {
         "font": {
          "color": "Black",
          "size": 22
         },
         "text": "Topic Word Scores",
         "x": 0.5,
         "xanchor": "center",
         "yanchor": "top"
        },
        "width": 1000,
        "xaxis": {
         "anchor": "y",
         "domain": [
          0,
          0.175
         ],
         "showgrid": true
        },
        "xaxis2": {
         "anchor": "y2",
         "domain": [
          0.275,
          0.45
         ],
         "showgrid": true
        },
        "xaxis3": {
         "anchor": "y3",
         "domain": [
          0.55,
          0.7250000000000001
         ],
         "showgrid": true
        },
        "xaxis4": {
         "anchor": "y4",
         "domain": [
          0.825,
          1
         ],
         "showgrid": true
        },
        "yaxis": {
         "anchor": "x",
         "domain": [
          0,
          1
         ],
         "showgrid": true
        },
        "yaxis2": {
         "anchor": "x2",
         "domain": [
          0,
          1
         ],
         "showgrid": true
        },
        "yaxis3": {
         "anchor": "x3",
         "domain": [
          0,
          1
         ],
         "showgrid": true
        },
        "yaxis4": {
         "anchor": "x4",
         "domain": [
          0,
          1
         ],
         "showgrid": true
        }
       }
      }
     },
     "metadata": {},
     "output_type": "display_data"
    }
   ],
   "source": [
    "# Word scores for most frequent topics\n",
    "topic_model.visualize_barchart(top_n_topics=5)\n"
   ]
  },
  {
   "cell_type": "code",
   "execution_count": 13,
   "id": "3f6b3e2c",
   "metadata": {},
   "outputs": [
    {
     "name": "stderr",
     "output_type": "stream",
     "text": [
      "[nltk_data] Downloading package vader_lexicon to\n",
      "[nltk_data]     C:\\Users\\Hp\\AppData\\Roaming\\nltk_data...\n",
      "[nltk_data]   Package vader_lexicon is already up-to-date!\n"
     ]
    }
   ],
   "source": [
    "# Re-import sentiment tools\n",
    "import nltk\n",
    "from nltk.sentiment.vader import SentimentIntensityAnalyzer\n",
    "nltk.download(\"vader_lexicon\")\n",
    "\n",
    "# Define function again\n",
    "def get_sentiment_scores(text):\n",
    "    sid = SentimentIntensityAnalyzer()\n",
    "    return sid.polarity_scores(text)\n",
    "\n",
    "def classify_sentiment(score_dict):\n",
    "    compound = score_dict[\"compound\"]\n",
    "    if compound >= 0.05:\n",
    "        return \"Positive\"\n",
    "    elif compound <= -0.05:\n",
    "        return \"Negative\"\n",
    "    else:\n",
    "        return \"Neutral\"\n",
    "\n",
    "# Run sentiment analysis again\n",
    "df[\"sentiment_scores\"] = df[\"clean_comment\"].apply(get_sentiment_scores)\n",
    "df[\"sentiment_label\"] = df[\"sentiment_scores\"].apply(classify_sentiment)\n"
   ]
  },
  {
   "cell_type": "code",
   "execution_count": 14,
   "id": "b7c6526c",
   "metadata": {},
   "outputs": [
    {
     "data": {
      "text/html": [
       "<div>\n",
       "<style scoped>\n",
       "    .dataframe tbody tr th:only-of-type {\n",
       "        vertical-align: middle;\n",
       "    }\n",
       "\n",
       "    .dataframe tbody tr th {\n",
       "        vertical-align: top;\n",
       "    }\n",
       "\n",
       "    .dataframe thead th {\n",
       "        text-align: right;\n",
       "    }\n",
       "</style>\n",
       "<table border=\"1\" class=\"dataframe\">\n",
       "  <thead>\n",
       "    <tr style=\"text-align: right;\">\n",
       "      <th></th>\n",
       "      <th>comment</th>\n",
       "      <th>sentiment_label</th>\n",
       "    </tr>\n",
       "  </thead>\n",
       "  <tbody>\n",
       "    <tr>\n",
       "      <th>366</th>\n",
       "      <td>I wonder if over population has anything to do...</td>\n",
       "      <td>Neutral</td>\n",
       "    </tr>\n",
       "    <tr>\n",
       "      <th>88</th>\n",
       "      <td>My question is to NASA. The air in a greenhous...</td>\n",
       "      <td>Negative</td>\n",
       "    </tr>\n",
       "    <tr>\n",
       "      <th>501</th>\n",
       "      <td>In my opinion, there is no such thing as a phy...</td>\n",
       "      <td>Negative</td>\n",
       "    </tr>\n",
       "    <tr>\n",
       "      <th>58</th>\n",
       "      <td>Now they're aware.</td>\n",
       "      <td>Neutral</td>\n",
       "    </tr>\n",
       "    <tr>\n",
       "      <th>252</th>\n",
       "      <td>BS, the democrats are behind this, 1 volcano c...</td>\n",
       "      <td>Negative</td>\n",
       "    </tr>\n",
       "  </tbody>\n",
       "</table>\n",
       "</div>"
      ],
      "text/plain": [
       "                                               comment sentiment_label\n",
       "366  I wonder if over population has anything to do...         Neutral\n",
       "88   My question is to NASA. The air in a greenhous...        Negative\n",
       "501  In my opinion, there is no such thing as a phy...        Negative\n",
       "58                                  Now they're aware.         Neutral\n",
       "252  BS, the democrats are behind this, 1 volcano c...        Negative"
      ]
     },
     "execution_count": 14,
     "metadata": {},
     "output_type": "execute_result"
    }
   ],
   "source": [
    "# View sample comments from topic 0\n",
    "df[df[\"topic\"] == 0][[\"comment\", \"sentiment_label\"]].sample(5)\n"
   ]
  },
  {
   "cell_type": "code",
   "execution_count": 15,
   "id": "fb6f580d",
   "metadata": {},
   "outputs": [],
   "source": [
    "df.to_csv(\"../data/processed/nasa_comments_with_sentiment_topic.csv\", index=False)\n"
   ]
  },
  {
   "cell_type": "markdown",
   "id": "0eaa47aa",
   "metadata": {},
   "source": [
    "# Sentiment & Topic Trends Over Time (Yearly)"
   ]
  },
  {
   "cell_type": "code",
   "execution_count": 20,
   "id": "2782599d",
   "metadata": {},
   "outputs": [],
   "source": [
    "# Convert date column to datetime\n",
    "df[\"date\"] = pd.to_datetime(df[\"date\"], errors=\"coerce\")\n",
    "\n",
    "# Extract year and month\n",
    "df[\"year\"] = df[\"date\"].dt.year\n",
    "df[\"month\"] = df[\"date\"].dt.month\n"
   ]
  },
  {
   "cell_type": "code",
   "execution_count": 21,
   "id": "066058d0",
   "metadata": {},
   "outputs": [
    {
     "data": {
      "image/png": "[encoded data removed]",
      "text/plain": [
       "<Figure size 1000x600 with 1 Axes>"
      ]
     },
     "metadata": {},
     "output_type": "display_data"
    }
   ],
   "source": [
    "import seaborn as sns\n",
    "import matplotlib.pyplot as plt\n",
    "\n",
    "sns.set(style=\"whitegrid\")\n",
    "plt.figure(figsize=(10, 6))\n",
    "sns.countplot(data=df, x=\"year\", hue=\"sentiment_label\", palette=\"muted\")\n",
    "plt.title(\"Sentiment Distribution by Year\")\n",
    "plt.xlabel(\"Year\")\n",
    "plt.ylabel(\"Number of Comments\")\n",
    "plt.legend(title=\"Sentiment\")\n",
    "plt.show()\n"
   ]
  },
  {
   "cell_type": "code",
   "execution_count": 22,
   "id": "b4f1635d",
   "metadata": {},
   "outputs": [
    {
     "data": {
      "image/png": "[encoded data removed]",
      "text/plain": [
       "<Figure size 1400x600 with 1 Axes>"
      ]
     },
     "metadata": {},
     "output_type": "display_data"
    }
   ],
   "source": [
    "# Group and reshape\n",
    "topic_trend = df.groupby([\"year\", \"topic\"]).size().unstack(fill_value=0)\n",
    "\n",
    "# Plot as line chart\n",
    "topic_trend.plot(kind=\"line\", figsize=(14,6), marker='o', lw=2)\n",
    "plt.title(\"Topic Trends by Year\")\n",
    "plt.xlabel(\"Year\")\n",
    "plt.ylabel(\"Number of Comments\")\n",
    "plt.legend(bbox_to_anchor=(1.05, 1), title=\"Topic ID\")\n",
    "plt.tight_layout()\n",
    "plt.show()\n"
   ]
  },
  {
   "cell_type": "code",
   "execution_count": 23,
   "id": "6d2593dc",
   "metadata": {},
   "outputs": [],
   "source": [
    "# Save with all sentiment/topic columns\n",
    "df.to_csv(\"../data/processed/nasa_comments_with_topics.csv\", index=False)\n"
   ]
  },
  {
   "cell_type": "markdown",
   "id": "699c5ab4",
   "metadata": {},
   "source": [
    "# Top Comments per Topic"
   ]
  },
  {
   "cell_type": "code",
   "execution_count": 31,
   "id": "518741c6",
   "metadata": {},
   "outputs": [
    {
     "name": "stdout",
     "output_type": "stream",
     "text": [
      "\n",
      " Topic 0 Samples:\n",
      "                                                                                                                                                                                                                                                                                                                                    comment sentiment_label\n",
      "That normal because we are entering 12000 cycle. It happened before, mammoths extinguished så, neanderthals, Atlantis, Ice age, Great flood,... Men they all had healthy ocean som cooled down the planet and helped that few thousand people survived. Not we. From december 2024 we will be unable to stop changes and protect ourselves.        Positive\n",
      "                                                                                                                     By 'people' hope they refer to the BIG GREEDY ones ,the big manufacturing industry ...we swim in an ocean of plastic everything , from packaging your bread to plastic clothing and mostly everything in a household 😢        Positive\n",
      "                                                                                                                                                                                                                         A good visual representation of those memories that so many of us have of it being colder when we were growing up!        Positive\n",
      "\n",
      " Topic 1 Samples:\n",
      "   comment sentiment_label\n",
      "       NaN         Neutral\n",
      "     Fake.        Negative\n",
      "Jusst Jess         Neutral\n",
      "\n",
      " Topic 2 Samples:\n",
      "                        comment sentiment_label\n",
      "                    Brody Smith         Neutral\n",
      "                   Andy Welborn         Neutral\n",
      "Ruth Crowl Frank Bulbeck. Wow..        Positive\n",
      "\n",
      " Topic 3 Samples:\n",
      "                                                                                                                                                                         comment sentiment_label\n",
      "                                                              A cause de l’activité humaine ……’ et pourtant cela ne gêne personne que nous soyons 10 milliards sur terre en 2100         Neutral\n",
      "Es triste todo lo que esta pasando todo se destruye por todas \\nCompañías\\nLuego no siembran nada de árboles yo\\nEn mi casa\\nTengo muchas sembrados\\nMuchas bendiciones pueblo 😂        Negative\n",
      "                                                                                                                                         Nous accélérons toujours depuis 1990 ……         Neutral\n",
      "\n",
      " Topic -1 Samples:\n",
      "                                  comment sentiment_label\n",
      "Joe has it all figured out how to fix it.         Neutral\n"
     ]
    }
   ],
   "source": [
    "# Show 3 comments + sentiment per top 5 topics (if available)\n",
    "for topic_id in df[\"topic\"].value_counts().head(5).index:\n",
    "    topic_comments = df[df[\"topic\"] == topic_id][[\"comment\", \"sentiment_label\"]]\n",
    "    print(f\"\\n Topic {topic_id} Samples:\")\n",
    "    if len(topic_comments) >= 3:\n",
    "        print(topic_comments.sample(3).to_string(index=False))\n",
    "    else:\n",
    "        print(topic_comments.to_string(index=False))\n"
   ]
  },
  {
   "cell_type": "markdown",
   "id": "07e28657",
   "metadata": {},
   "source": [
    "# Topic Label Mapping (Human-Friendly Tags)"
   ]
  },
  {
   "cell_type": "code",
   "execution_count": 32,
   "id": "bd282d12",
   "metadata": {},
   "outputs": [],
   "source": [
    "topic_labels = {\n",
    "    0: \"Climate Action Urgency\",\n",
    "    1: \"Skepticism / Hoax Claims\",\n",
    "    2: \"Scientific Warnings\",\n",
    "    3: \"Support for NASA\",\n",
    "    4: \"Calls for Policy Change\"\n",
    "}\n",
    "df[\"topic_label\"] = df[\"topic\"].map(topic_labels)\n"
   ]
  }
 ],
 "metadata": {
  "kernelspec": {
   "display_name": "Python 3",
   "language": "python",
   "name": "python3"
  },
  "language_info": {
   "codemirror_mode": {
    "name": "ipython",
    "version": 3
   },
   "file_extension": ".py",
   "mimetype": "text/x-python",
   "name": "python",
   "nbconvert_exporter": "python",
   "pygments_lexer": "ipython3",
   "version": "3.11.9"
  }
 },
 "nbformat": 4,
 "nbformat_minor": 5
}
